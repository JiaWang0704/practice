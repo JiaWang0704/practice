{
  "nbformat": 4,
  "nbformat_minor": 0,
  "metadata": {
    "colab": {
      "name": "DeOldify_EDVR_Combined_wj.ipynb",
      "provenance": [],
      "collapsed_sections": [],
      "machine_shape": "hm",
      "include_colab_link": true
    },
    "kernelspec": {
      "display_name": "Python 3",
      "name": "python3"
    }
  },
  "cells": [
    {
      "cell_type": "markdown",
      "metadata": {
        "id": "view-in-github",
        "colab_type": "text"
      },
      "source": [
        "<a href=\"https://colab.research.google.com/github/se16wangmeiwei/practice/blob/main/DeOldify_EDVR_Combined_wj.ipynb\" target=\"_parent\"><img src=\"https://colab.research.google.com/assets/colab-badge.svg\" alt=\"Open In Colab\"/></a>"
      ]
    },
    {
      "cell_type": "markdown",
      "metadata": {
        "id": "lU-hbZ8J5oQ8"
      },
      "source": [
        "# Introduction"
      ]
    },
    {
      "cell_type": "markdown",
      "metadata": {
        "id": "xMvS_JLe5rvb"
      },
      "source": [
        "This notebook combines elements of two of my favorite projects: DeOldify and EDVR.\n",
        "\n",
        "Specifically, it leverages DeOldify's beautiful approach to downloading, extracting and transforming videos, but instead of Colorizing them with the DeOldify model, we use EDVR to restore them.\n",
        "\n",
        "**Source**\n",
        "\n",
        "DeOldify: https://github.com/jantic/DeOldify\n",
        "\n",
        "DeOldify colorizes and restores old images and film footage. \n",
        "\n",
        "EDVR: https://github.com/xinntao/EDVR\n",
        "\n",
        "EDVR or Video Restoration with Enhanced Deformable Convolutional Networks is the current (as of 2/20) State of the Art in restoring Videos.\n",
        "\n",
        "## Background\n",
        "\n",
        "Unfortunately, most Deep Learning researchers do not pay enough attention to the usability of their code. A lot of times there is a lack of documentation on what the code is doing. If a repo is properly documented, the emphasis is on how to train models rather than do inference. \n",
        "\n",
        "Usually with enough hair pulling, one can test pre-trained models on images, but doing it on video requires a lot of different things to come together: downloading it, extracting the frames, processing the frames, putting the frames back togetehr, handling the audio along the way and so on...\n",
        "\n",
        "## The Solution\n",
        "\n",
        "Probably one of the best implementations of transforming video is DeOldify. I'm a huge fan of how they setup the workflow of handling video and leverage Google Colab Forms to let people play with it like an App. \n",
        "\n",
        "My motivation for this approach was to generalize DeOldify where it can take pretty much any GAN model and trasnform a video. Plug and play. I tried it with some Style Transfer and ESRGAN models and it worked fine.\n",
        "\n",
        "This particular notebook is customized to EDVR rather than the fully generalized one I hope to get to.\n",
        "\n",
        "The reason is EDVR isn't quite as straightforward as other models (it doesn't transform one image at a time and there can be memory issues if the group of images passed isn't handled)."
      ]
    },
    {
      "cell_type": "code",
      "metadata": {
        "colab": {
          "base_uri": "https://localhost:8080/"
        },
        "id": "ZD_Cmi7GdLlp",
        "outputId": "ba4cc1a0-d40f-4f32-ded1-30dd9d9edd69"
      },
      "source": [
        "from google.colab import drive\n",
        "\n",
        "drive.mount('/content/drive', force_remount = True)"
      ],
      "execution_count": null,
      "outputs": [
        {
          "output_type": "stream",
          "text": [
            "Mounted at /content/drive\n"
          ],
          "name": "stdout"
        }
      ]
    },
    {
      "cell_type": "markdown",
      "metadata": {
        "id": "ZLwn7rOVv-Ag"
      },
      "source": [
        "# Get DeOldify"
      ]
    },
    {
      "cell_type": "code",
      "metadata": {
        "colab": {
          "base_uri": "https://localhost:8080/"
        },
        "id": "zjH15UVRu5k2",
        "outputId": "73eb6cdb-444a-4672-e048-f77d5dbf19fc"
      },
      "source": [
        "!git clone https://github.com/jantic/DeOldify.git"
      ],
      "execution_count": null,
      "outputs": [
        {
          "output_type": "stream",
          "text": [
            "Cloning into 'DeOldify'...\n",
            "remote: Enumerating objects: 13, done.\u001b[K\n",
            "remote: Counting objects: 100% (13/13), done.\u001b[K\n",
            "remote: Compressing objects: 100% (10/10), done.\u001b[K\n",
            "remote: Total 2241 (delta 4), reused 7 (delta 3), pack-reused 2228\u001b[K\n",
            "Receiving objects: 100% (2241/2241), 69.42 MiB | 25.72 MiB/s, done.\n",
            "Resolving deltas: 100% (1012/1012), done.\n"
          ],
          "name": "stdout"
        }
      ]
    },
    {
      "cell_type": "code",
      "metadata": {
        "colab": {
          "base_uri": "https://localhost:8080/"
        },
        "id": "-0skn_Ehv18i",
        "outputId": "aabaad5f-367c-41be-ee24-f83eb1600b03"
      },
      "source": [
        "cd DeOldify"
      ],
      "execution_count": null,
      "outputs": [
        {
          "output_type": "stream",
          "text": [
            "/content/DeOldify\n"
          ],
          "name": "stdout"
        }
      ]
    },
    {
      "cell_type": "code",
      "metadata": {
        "id": "K8iNxOyUv9oU"
      },
      "source": [
        "from IPython.display import clear_output\n",
        "\n",
        "!pip install -r colab_requirements.txt\n",
        "\n",
        "clear_output()"
      ],
      "execution_count": null,
      "outputs": []
    },
    {
      "cell_type": "markdown",
      "metadata": {
        "id": "DfN_bZOQwF1s"
      },
      "source": [
        "# Get EDVR"
      ]
    },
    {
      "cell_type": "code",
      "metadata": {
        "colab": {
          "base_uri": "https://localhost:8080/"
        },
        "id": "Fh0wPY-twohc",
        "outputId": "6ec5eaa6-4413-4d96-c48e-bb8605d09788"
      },
      "source": [
        "cd .."
      ],
      "execution_count": null,
      "outputs": [
        {
          "output_type": "stream",
          "text": [
            "/content\n"
          ],
          "name": "stdout"
        }
      ]
    },
    {
      "cell_type": "code",
      "metadata": {
        "colab": {
          "base_uri": "https://localhost:8080/"
        },
        "id": "G-U4mSGbb0Gj",
        "outputId": "296567ba-aafa-4ae3-d5f0-2b56e6b7fd42"
      },
      "source": [
        "!git clone https://github.com/xinntao/EDVR"
      ],
      "execution_count": null,
      "outputs": [
        {
          "output_type": "stream",
          "text": [
            "Cloning into 'EDVR'...\n",
            "remote: Enumerating objects: 3013, done.\u001b[K\n",
            "remote: Counting objects: 100% (3013/3013), done.\u001b[K\n",
            "remote: Compressing objects: 100% (1094/1094), done.\u001b[K\n",
            "remote: Total 3082 (delta 1993), reused 2849 (delta 1840), pack-reused 69\u001b[K\n",
            "Receiving objects: 100% (3082/3082), 2.32 MiB | 10.41 MiB/s, done.\n",
            "Resolving deltas: 100% (2004/2004), done.\n"
          ],
          "name": "stdout"
        }
      ]
    },
    {
      "cell_type": "code",
      "metadata": {
        "colab": {
          "base_uri": "https://localhost:8080/"
        },
        "id": "5dn8vmfJb5os",
        "outputId": "b4205731-2005-42b5-945c-d1a94a6e1d21"
      },
      "source": [
        "cd EDVR"
      ],
      "execution_count": null,
      "outputs": [
        {
          "output_type": "stream",
          "text": [
            "/content/EDVR\n"
          ],
          "name": "stdout"
        }
      ]
    },
    {
      "cell_type": "code",
      "metadata": {
        "id": "rSpgXxadloT1"
      },
      "source": [
        "!pip install -r requirements.txt"
      ],
      "execution_count": null,
      "outputs": []
    },
    {
      "cell_type": "code",
      "metadata": {
        "id": "vR-YIAdKNS90"
      },
      "source": [
        "!python setup.py develop\n",
        "\n",
        "clear_output()"
      ],
      "execution_count": null,
      "outputs": []
    },
    {
      "cell_type": "code",
      "metadata": {
        "colab": {
          "base_uri": "https://localhost:8080/"
        },
        "id": "HU103yr0BNn7",
        "outputId": "2e248982-e9da-46dd-b432-1246bfdbac4a"
      },
      "source": [
        "!pip install numpy opencv-python lmdb pyyaml"
      ],
      "execution_count": null,
      "outputs": [
        {
          "output_type": "stream",
          "text": [
            "Requirement already satisfied: numpy in /usr/local/lib/python3.7/dist-packages (1.19.5)\n",
            "Requirement already satisfied: opencv-python in /usr/local/lib/python3.7/dist-packages (4.1.2.30)\n",
            "Requirement already satisfied: lmdb in /usr/local/lib/python3.7/dist-packages (0.99)\n",
            "Requirement already satisfied: pyyaml in /usr/local/lib/python3.7/dist-packages (3.13)\n"
          ],
          "name": "stdout"
        }
      ]
    },
    {
      "cell_type": "code",
      "metadata": {
        "id": "YKm-vrs8BNq1"
      },
      "source": [
        "!pip install tb-nightly future\n",
        "clear_output()"
      ],
      "execution_count": null,
      "outputs": []
    },
    {
      "cell_type": "markdown",
      "metadata": {
        "id": "eRxtX4wS2sB7"
      },
      "source": [
        "# Download Pre-trained Models"
      ]
    },
    {
      "cell_type": "code",
      "metadata": {
        "id": "PwlivFByB9OC"
      },
      "source": [
        "!wget --no-check-certificate 'https://drive.google.com/uc?export=download&id=1PYULZmtpsmY4Wx8M9f4owdLIwcwQFEmi' -O EDVR_REDS_SR_L.pth\n",
        "!wget --no-check-certificate 'https://drive.google.com/uc?export=download&id=1ZCl0aU8isEnUCsUYv9rIZZQrGo7vBFUH' -O EDVR_REDS_deblur_L.pth\n",
        "!wget --no-check-certificate 'https://drive.google.com/uc?export=download&id=1SGVehpZt4WL_X8Jh6blyqmHpc8DdImgv' -O EDVR_REDS_deblurcomp_L.pth\n",
        "!wget --no-check-certificate 'https://drive.google.com/uc?export=download&id=18ev7Zx_10-C8-0tAVAe_BpYeLHpr_ChE' -O EDVR_REDS_SRblur_L.pth\n",
        "!wget --no-check-certificate 'https://drive.google.com/uc?export=download&id=1I7x87ee3E1DoFVgMxX09nfIb2tdUdE3x' -O EDVR_Vimeo90K_SR_L.pth\n",
        "\n",
        "clear_output()"
      ],
      "execution_count": null,
      "outputs": []
    },
    {
      "cell_type": "code",
      "metadata": {
        "id": "KKh2AyYWtlKb"
      },
      "source": [
        "!mv /content/EDVR/EDVR_REDS_SR_L.pth /content/EDVR/experiments/pretrained_models\n",
        "!mv /content/EDVR/EDVR_REDS_deblur_L.pth /content/EDVR/experiments/pretrained_models\n",
        "!mv /content/EDVR/EDVR_REDS_deblurcomp_L.pth /content/EDVR/experiments/pretrained_models\n",
        "!mv /content/EDVR/EDVR_REDS_SRblur_L.pth /content/EDVR/experiments/pretrained_models\n",
        "!mv /content/EDVR/EDVR_Vimeo90K_SR_L.pth /content/EDVR/experiments/pretrained_models"
      ],
      "execution_count": null,
      "outputs": []
    },
    {
      "cell_type": "code",
      "metadata": {
        "id": "l6KPI1udwPCs"
      },
      "source": [
        "# stage 2\n",
        "!wget --no-check-certificate 'https://drive.google.com/uc?export=download&id=1G466gQ1rRl8MUKSEbtaR0U5xgIWdsG66' -O EDVR_REDS_deblurcomp_Stage2.pth\n",
        "!wget --no-check-certificate 'https://drive.google.com/uc?export=download&id=1kfArevFT8hzbUT2QWXFmUl983LTebQGP' -O EDVR_REDS_SR_Stage2.pth\n",
        "!wget --no-check-certificate 'https://drive.google.com/uc?export=download&id=13c-VxMdf8h7MGX-_y4xamxo1hhOMYzsH' -O EDVR_REDS_SRblur_Stage2.pth\n",
        "!wget --no-check-certificate 'https://drive.google.com/uc?export=download&id=1Y1y6v40dL74Kgf5fxbGd0QC010LFCBYz' -O EDVR_REDS_deblur_Stage2.pth\n",
        "\n",
        "clear_output()"
      ],
      "execution_count": null,
      "outputs": []
    },
    {
      "cell_type": "code",
      "metadata": {
        "id": "pBB07eLMOI8a"
      },
      "source": [
        "# stage 2\n",
        "!mv /content/EDVR/EDVR_REDS_deblurcomp_Stage2.pth /content/EDVR/experiments/pretrained_models\n",
        "!mv /content/EDVR/EDVR_REDS_SR_Stage2.pth /content/EDVR/experiments/pretrained_models\n",
        "!mv /content/EDVR/EDVR_REDS_SRblur_Stage2.pth /content/EDVR/experiments/pretrained_models\n",
        "!mv /content/EDVR/EDVR_REDS_deblur_Stage2.pth /content/EDVR/experiments/pretrained_models"
      ],
      "execution_count": null,
      "outputs": []
    },
    {
      "cell_type": "code",
      "metadata": {
        "colab": {
          "base_uri": "https://localhost:8080/"
        },
        "id": "UEmMXhbFe2vM",
        "outputId": "c765ace2-0526-42ed-aae6-e886f2a30209"
      },
      "source": [
        "cd /content/EDVR"
      ],
      "execution_count": null,
      "outputs": [
        {
          "output_type": "stream",
          "text": [
            "/content/EDVR\n"
          ],
          "name": "stdout"
        }
      ]
    },
    {
      "cell_type": "code",
      "metadata": {
        "id": "m-pb6mR9fP2I"
      },
      "source": [
        "import sys\n",
        "sys.path.append('/content/EDVR/basicsr')\n",
        "sys.path.append('/content/EDVR/basicsr/utils')\n",
        "sys.path.append('/content/EDVR/basicsr/data')\n",
        "sys.path.append('/content/EDVR/basicsr/models/archs')\n"
      ],
      "execution_count": null,
      "outputs": []
    },
    {
      "cell_type": "code",
      "metadata": {
        "colab": {
          "base_uri": "https://localhost:8080/",
          "height": 35
        },
        "id": "ikxRKKqGGGjI",
        "outputId": "effcb02d-8f0e-4a64-b41e-917c4d2423cf"
      },
      "source": [
        "pwd"
      ],
      "execution_count": null,
      "outputs": [
        {
          "output_type": "execute_result",
          "data": {
            "application/vnd.google.colaboratory.intrinsic+json": {
              "type": "string"
            },
            "text/plain": [
              "'/content/EDVR'"
            ]
          },
          "metadata": {
            "tags": []
          },
          "execution_count": 18
        }
      ]
    },
    {
      "cell_type": "markdown",
      "metadata": {
        "id": "3RIGyH6vwKx6"
      },
      "source": [
        "# Combine Everything Together!"
      ]
    },
    {
      "cell_type": "code",
      "metadata": {
        "id": "VaHKckuowokE"
      },
      "source": [
        "import ffmpeg\n",
        "import os\n",
        "import os.path as osp\n",
        "import glob\n",
        "import logging\n",
        "import cv2\n",
        "\n",
        "import torch\n",
        "import numpy as np\n",
        "import shutil\n",
        "import re\n",
        "import gc\n",
        "import youtube_dl\n",
        "from PIL import Image\n",
        "from pathlib import Path\n",
        "from tqdm import tqdm\n",
        "\n",
        "import data_util\n",
        "import util\n",
        "# import data.util as data_util\n",
        "import edvr_arch as EDVR_arch\n",
        "\n",
        "workfolder = Path('./video')\n",
        "source_folder = workfolder / \"source\"\n",
        "inframes_root = workfolder / \"inframes\"\n",
        "audio_root = workfolder / \"audio\"\n",
        "outframes_root = workfolder / \"outframes\"\n",
        "result_folder = workfolder / \"result\"\n",
        "pretrained_models = Path('/content/EDVR/experiments/pretrained_models')\n",
        "\n",
        "def clean_mem():\n",
        "    # torch.cuda.empty_cache()\n",
        "    gc.collect()\n",
        "\n",
        "def get_fps(source_path: Path) -> str:\n",
        "    print(source_path)\n",
        "    probe = ffmpeg.probe(str(source_path))\n",
        "    stream_data = next(\n",
        "        (stream for stream in probe['streams'] if stream['codec_type'] == 'video'),\n",
        "        None,\n",
        "    )\n",
        "    return stream_data['avg_frame_rate']\n",
        "\n",
        "def download_video_from_url(source_url, source_path: Path, quality: str):\n",
        "    if source_path.exists():\n",
        "        source_path.unlink()\n",
        "\n",
        "    ydl_opts = {\n",
        "        'format': 'bestvideo[height<={}][ext=mp4]+bestaudio[ext=m4a]/mp4'.format(quality),\n",
        "        'outtmpl': str(source_path),\n",
        "    }\n",
        "    with youtube_dl.YoutubeDL(ydl_opts) as ydl:\n",
        "        ydl.download([source_url])\n",
        "\n",
        "def preProcess(imag_path_l, multiple):\n",
        "  '''Need to resize images for blurred model (needs to be multiples of 16)'''\n",
        "  for img_path in imag_path_l:\n",
        "    im = Image.open(img_path)\n",
        "    h, w = im.size\n",
        "    # resize so they are multiples of 4 or 16 (for blurred)\n",
        "    h = h - h % multiple\n",
        "    w = w - w % multiple\n",
        "    im = im.resize((h,w))\n",
        "    im.save(img_path)\n",
        "\n",
        "def purge_images(dir):\n",
        "  for f in os.listdir(dir):\n",
        "    if re.search('.*?\\.jpg', f):\n",
        "      os.remove(os.path.join(dir, f))\n",
        "\n",
        "def extract_raw_frames(source_path: Path):\n",
        "    inframes_folder = inframes_root / (source_path.stem)\n",
        "    inframe_path_template = str(inframes_folder / '%5d.jpg')\n",
        "    inframes_folder.mkdir(parents=True, exist_ok=True)\n",
        "    purge_images(inframes_folder)\n",
        "    ffmpeg.input(str(source_path)).output(\n",
        "        str(inframe_path_template), format='image2', vcodec='mjpeg', qscale=0\n",
        "    ).run(capture_stdout=True)\n",
        "\n",
        "def make_subfolders(img_path_l, chunk_size):\n",
        "  i = 0\n",
        "  subFolderList = []\n",
        "  source_img_path = Path('/content/EDVR/codes/video/inframes/video_subfolders')\n",
        "  source_img_path.mkdir(parents=True, exist_ok=True)\n",
        "  for img in img_path_l:\n",
        "    if i % chunk_size == 0:\n",
        "      img_path = source_img_path / str(i)\n",
        "      img_path.mkdir(parents=True, exist_ok=True)\n",
        "      subFolderList.append(str(img_path))\n",
        "    i+=1\n",
        "    img_name = osp.basename(img)\n",
        "    img_path_name = img_path / img_name\n",
        "    shutil.copyfile(img, img_path_name)\n",
        "\n",
        "  return subFolderList\n",
        "\n",
        "def remove_subfolders():\n",
        "  shutil.rmtree('/content/EDVR/codes/video/inframes/video_subfolders', ignore_errors=True, onerror=None)\n",
        "\n",
        "def edvrPredict(data_mode, chunk_size, stage):\n",
        "  device = torch.device('cuda')\n",
        "  os.environ['CUDA_VISIBLE_DEVICES'] = '0'\n",
        "  data_mode = data_mode  # Vid4 | sharp_bicubic | blur_bicubic | blur | blur_comp\n",
        "  # Vid4: SR\n",
        "  # REDS4: sharp_bicubic (SR-clean), blur_bicubic (SR-blur);\n",
        "  #        blur (deblur-clean), blur_comp (deblur-compression).\n",
        "  stage = stage  # 1 or 2, use two stage strategy for REDS dataset.\n",
        "  flip_test = False\n",
        "  ############################################################################\n",
        "  #### model\n",
        "  if data_mode == 'Vid4':\n",
        "      if stage == 1:\n",
        "          model_path = pretrained_models / 'EDVR_Vimeo90K_SR_L.pth'\n",
        "      else:\n",
        "          raise ValueError('Vid4 does not support stage 2.')\n",
        "  elif data_mode == 'sharp_bicubic':\n",
        "      if stage == 1:\n",
        "          model_path = pretrained_models / 'EDVR_REDS_SR_L.pth'\n",
        "      else:\n",
        "          model_path = pretrained_models / 'EDVR_REDS_SR_Stage2.pth'\n",
        "  elif data_mode == 'blur_bicubic':\n",
        "      if stage == 1:\n",
        "          model_path = pretrained_models / 'EDVR_REDS_SRblur_L.pth'\n",
        "      else:\n",
        "          model_path = pretrained_models / 'EDVR_REDS_SRblur_Stage2.pth'\n",
        "  elif data_mode == 'blur':\n",
        "      if stage == 1:\n",
        "          model_path = pretrained_models / 'EDVR_REDS_deblur_L.pth'\n",
        "      else:\n",
        "          model_path = pretrained_models / 'EDVR_REDS_deblur_Stage2.pth'\n",
        "  elif data_mode == 'blur_comp':\n",
        "      if stage == 1:\n",
        "          model_path = pretrained_models / 'EDVR_REDS_deblurcomp_L.pth'\n",
        "      else:\n",
        "          model_path = pretrained_models / 'EDVR_REDS_deblurcomp_Stage2.pth'     \n",
        "  else:\n",
        "      raise NotImplementedError\n",
        "  print('Model Used: ', model_path)\n",
        "  \n",
        "  if data_mode == 'Vid4':\n",
        "      N_in = 7  # use N_in images to restore one HR image\n",
        "  else:\n",
        "      N_in = 5\n",
        "\n",
        "  predeblur, HR_in = False, False\n",
        "  back_RBs = 40\n",
        "  if data_mode == 'blur_bicubic':\n",
        "      predeblur = True\n",
        "  if data_mode == 'blur' or data_mode == 'blur_comp':\n",
        "      predeblur, HR_in = True, True\n",
        "  if stage == 2:\n",
        "      HR_in = True\n",
        "      back_RBs = 20\n",
        "  if data_mode == 'TOF':\n",
        "    model = TOF_arch.TOFlow(adapt_official=True)\n",
        "  else:\n",
        "    print('定义model')\n",
        "    model = EDVR_arch.EDVR(num_feat=128,num_reconstruct_block=back_RBs, with_predeblur=predeblur, hr_in=HR_in)\n",
        "\n",
        "  #### dataset\n",
        "  test_dataset_folder = '/content/EDVR/video/inframes/video'\n",
        "\n",
        "  #### evaluation\n",
        "  crop_border = 0\n",
        "  border_frame = N_in // 2  # border frames when evaluate\n",
        "  # temporal padding mode\n",
        "  if data_mode in ('Vid4','sharp_bicubic'):\n",
        "      padding = 'new_info'\n",
        "  else:\n",
        "      padding = 'replicate'\n",
        "  save_imgs = True\n",
        "\n",
        "  save_folder = '/content/EDVR/codes/video/outframes'\n",
        "  util.mkdirs(save_folder)\n",
        "\n",
        "  #### set up the models\n",
        "  model.load_state_dict(torch.load(model_path), strict=False)\n",
        "  model.eval()\n",
        "  model = model.to(device)\n",
        "\n",
        "  avg_psnr_l, avg_psnr_center_l, avg_psnr_border_l = [], [], []\n",
        "  subfolder_name_l = []\n",
        "  # remove old video_subfolder if exists\n",
        "  remove_subfolders()\n",
        "  subfolder_l = sorted(glob.glob(osp.join(test_dataset_folder, '*')))\n",
        "  print('subfolder')\n",
        "  print(subfolder_l)\n",
        "\n",
        "  # for each subfolder\n",
        "  for subfolder in subfolder_l:\n",
        "      subfolder_name = osp.basename(subfolder)\n",
        "      subfolder_name_l.append(subfolder_name)\n",
        "      save_subfolder = osp.join(save_folder, subfolder_name)\n",
        "\n",
        "      img_path_l = sorted(glob.glob(osp.join(subfolder, '*')))\n",
        "      if save_imgs:\n",
        "          util.mkdirs(save_subfolder)\n",
        "          purge_images(save_subfolder)\n",
        "\n",
        "      # preprocess images (needed for blurred models)\n",
        "      if predeblur:\n",
        "        preProcess(img_path_l, 16)\n",
        "      else:\n",
        "        preProcess(img_path_l, 4)\n",
        "      # make even more subfolders\n",
        "      subFolderList = make_subfolders(img_path_l, chunk_size)\n",
        "\n",
        "      #### read LQ and GT images in chunks of 1000\n",
        "      for subSubFolder in subFolderList:\n",
        "        clean_mem()\n",
        "        imgs_LQ = data_util.read_img_seq(subSubFolder)\n",
        "        subSubFolder_l = sorted(glob.glob(osp.join(subSubFolder, '*')))\n",
        "        max_idx = len(subSubFolder_l)\n",
        "        avg_psnr, avg_psnr_border, avg_psnr_center, N_border, N_center = 0, 0, 0, 0, 0\n",
        "\n",
        "        # process each image\n",
        "        for img_idx, img_path in tqdm(enumerate(subSubFolder_l)):\n",
        "            img_name = osp.splitext(osp.basename(img_path))[0]\n",
        "            select_idx = data_util.index_generation(img_idx, max_idx, N_in, padding=padding)\n",
        "            imgs_in = imgs_LQ.index_select(0, torch.LongTensor(select_idx)).unsqueeze(0).to(device)\n",
        "\n",
        "            if flip_test:\n",
        "                output = util.flipx4_forward(model, imgs_in)\n",
        "            else:\n",
        "                output = util.single_forward(model, imgs_in)\n",
        "            output = util.tensor2img(output.squeeze(0))\n",
        "\n",
        "            if save_imgs:\n",
        "                cv2.imwrite(osp.join(save_subfolder, '{}.jpg'.format(img_name)), output)\n",
        "                # print('Saved Image:', str(osp.join(save_subfolder, '{}.jpg'.format(img_name))))\n",
        "\n",
        "def moveProcessedFrames():\n",
        "  shutil.rmtree('/content/EDVR/codes/video/inframes')\n",
        "  os.rename('/content/EDVR/codes/video/outframes', '/content/EDVR/codes/video/inframes')\n",
        "\n",
        "def build_video(source_path: Path) -> Path:\n",
        "        out_path = result_folder / (\n",
        "            source_path.name.replace('.mp4', '_no_audio.mp4')\n",
        "        )\n",
        "        outframes_folder = outframes_root / (source_path.stem)\n",
        "        outframes_path_template = str(outframes_folder / '%5d.jpg')\n",
        "        out_path.parent.mkdir(parents=True, exist_ok=True)\n",
        "        if out_path.exists():\n",
        "            out_path.unlink()\n",
        "        fps = get_fps(source_path)\n",
        "        print('Original FPS is: ', fps)\n",
        "\n",
        "        ffmpeg.input(\n",
        "            str(outframes_path_template),\n",
        "            format='image2',\n",
        "            vcodec='mjpeg',\n",
        "            framerate=fps,\n",
        "        ).output(str(out_path), crf=17, vcodec='libx264').run(capture_stdout=True)\n",
        "\n",
        "        result_path = result_folder / source_path.name\n",
        "        if result_path.exists():\n",
        "            result_path.unlink()\n",
        "        # making copy of non-audio version in case adding back audio doesn't apply or fails.\n",
        "        shutil.copyfile(str(out_path), str(result_path))\n",
        "\n",
        "        # adding back sound here\n",
        "        audio_file = Path(str(source_path).replace('.mp4', '.aac'))\n",
        "        if audio_file.exists():\n",
        "            audio_file.unlink()\n",
        "\n",
        "        os.system(\n",
        "            'ffmpeg -y -i \"'\n",
        "            + str(source_path)\n",
        "            + '\" -vn -acodec copy \"'\n",
        "            + str(audio_file)\n",
        "            + '\"'\n",
        "        )\n",
        "\n",
        "        if audio_file.exists:\n",
        "            os.system(\n",
        "                'ffmpeg -y -i \"'\n",
        "                + str(out_path)\n",
        "                + '\" -i \"'\n",
        "                + str(audio_file)\n",
        "                + '\" -shortest -c:v copy -c:a aac -b:a 256k \"'\n",
        "                + str(result_path)\n",
        "                + '\"'\n",
        "            )\n",
        "        print('Video created here: ' + str(result_path))\n",
        "        return result_path\n",
        "\n",
        "def edvr_video(source_url: str, source_path: Path, data_mode: str, original_quality: str, \n",
        "               chunk_size: int, finetune_stage2: bool):\n",
        "    # download video\n",
        "    download_video_from_url(source_url , source_path, original_quality)\n",
        "\n",
        "    # extract frames\n",
        "    extract_raw_frames(source_path)\n",
        "\n",
        "    # process frames\n",
        "    edvrPredict(data_mode, chunk_size, 1)\n",
        "\n",
        "    # fine-tune stage 2\n",
        "    if finetune_stage2:\n",
        "      # move the stage 1 processed frames over\n",
        "      moveProcessedFrames()\n",
        "      # process again\n",
        "      edvrPredict(data_mode, chunk_size, 2)\n",
        "\n",
        "    # build back video\n",
        "    build_video(source_path)"
      ],
      "execution_count": null,
      "outputs": []
    },
    {
      "cell_type": "markdown",
      "metadata": {
        "id": "vl0fNUvzbLwO"
      },
      "source": [
        "# build_video测试代码"
      ]
    },
    {
      "cell_type": "code",
      "metadata": {
        "id": "I5cHEUlMF_0X"
      },
      "source": [
        "def build_video(source_path: Path) -> Path:\n",
        "        out_path = result_folder / (\n",
        "            source_path.name.replace('.mp4', '_no_audio.mp4')\n",
        "        )\n",
        "        outframes_root=Path('/content/codes/video/outframes')\n",
        "        # outframes_folder = outframes_root / (source_path.stem)\n",
        "        outframes_folder= Path('/content/EDVR/codes/video/outframes')\n",
        "        print(outframes_folder)\n",
        "        outframes_path_template = str(outframes_folder / '%5d.jpg')\n",
        "        out_path.parent.mkdir(parents=True, exist_ok=True)\n",
        "        print('outpath: ', out_path.parent)\n",
        "        if out_path.exists():\n",
        "            out_path.unlink()\n",
        "        print('outpath: ', out_path)\n",
        "        fps = get_fps(source_path)\n",
        "        print('Original FPS is: ', fps)\n",
        "        print(outframes_path_template)\n",
        "        ffmpeg.input(\n",
        "            str(outframes_path_template),\n",
        "            format='image2',\n",
        "            vcodec='mjpeg',\n",
        "            framerate=fps,\n",
        "        ).output(str(out_path), crf=17, vcodec='libx264').run(capture_stdout=True)\n",
        "\n",
        "        result_path = result_folder / source_path.name\n",
        "        if result_path.exists():\n",
        "            result_path.unlink()\n",
        "        # making copy of non-audio version in case adding back audio doesn't apply or fails.\n",
        "        shutil.copyfile(str(out_path), str(result_path))\n",
        "\n",
        "        # adding back sound here\n",
        "        audio_file = Path(str(source_path).replace('.mp4', '.aac'))\n",
        "        if audio_file.exists():\n",
        "            audio_file.unlink()\n",
        "\n",
        "        os.system(\n",
        "            'ffmpeg -y -i \"'\n",
        "            + str(source_path)\n",
        "            + '\" -vn -acodec copy \"'\n",
        "            + str(audio_file)\n",
        "            + '\"'\n",
        "        )\n",
        "\n",
        "        if audio_file.exists:\n",
        "            os.system(\n",
        "                'ffmpeg -y -i \"'\n",
        "                + str(out_path)\n",
        "                + '\" -i \"'\n",
        "                + str(audio_file)\n",
        "                + '\" -shortest -c:v copy -c:a aac -b:a 256k \"'\n",
        "                + str(result_path)\n",
        "                + '\"'\n",
        "            )\n",
        "        print('Video created here: ' + str(result_path))\n",
        "        return result_path\n"
      ],
      "execution_count": null,
      "outputs": []
    },
    {
      "cell_type": "code",
      "metadata": {
        "colab": {
          "base_uri": "https://localhost:8080/",
          "height": 557
        },
        "id": "Ju7pHXaGFeLV",
        "outputId": "4f02e1f7-3424-49f7-ac87-9bdcd9b26f58"
      },
      "source": [
        "build_video(Path('/content/video.mp4'))"
      ],
      "execution_count": null,
      "outputs": [
        {
          "output_type": "stream",
          "text": [
            "/content/EDVR/codes/video/outframes\n",
            "outpath:  video/result\n",
            "outpath:  video/result/video_no_audio.mp4\n",
            "/content/video.mp4\n",
            "Original FPS is:  18/1\n",
            "/content/EDVR/codes/video/outframes/%5d.jpg\n"
          ],
          "name": "stdout"
        },
        {
          "output_type": "error",
          "ename": "Error",
          "evalue": "ignored",
          "traceback": [
            "\u001b[0;31m---------------------------------------------------------------------------\u001b[0m",
            "\u001b[0;31mError\u001b[0m                                     Traceback (most recent call last)",
            "\u001b[0;32m<ipython-input-50-5aa8ee368a22>\u001b[0m in \u001b[0;36m<module>\u001b[0;34m()\u001b[0m\n\u001b[0;32m----> 1\u001b[0;31m \u001b[0mbuild_video\u001b[0m\u001b[0;34m(\u001b[0m\u001b[0mPath\u001b[0m\u001b[0;34m(\u001b[0m\u001b[0;34m'/content/video.mp4'\u001b[0m\u001b[0;34m)\u001b[0m\u001b[0;34m)\u001b[0m\u001b[0;34m\u001b[0m\u001b[0;34m\u001b[0m\u001b[0m\n\u001b[0m",
            "\u001b[0;32m<ipython-input-49-28f182a7f4d4>\u001b[0m in \u001b[0;36mbuild_video\u001b[0;34m(source_path)\u001b[0m\n\u001b[1;32m     21\u001b[0m             \u001b[0mvcodec\u001b[0m\u001b[0;34m=\u001b[0m\u001b[0;34m'mjpeg'\u001b[0m\u001b[0;34m,\u001b[0m\u001b[0;34m\u001b[0m\u001b[0;34m\u001b[0m\u001b[0m\n\u001b[1;32m     22\u001b[0m             \u001b[0mframerate\u001b[0m\u001b[0;34m=\u001b[0m\u001b[0mfps\u001b[0m\u001b[0;34m,\u001b[0m\u001b[0;34m\u001b[0m\u001b[0;34m\u001b[0m\u001b[0m\n\u001b[0;32m---> 23\u001b[0;31m         ).output(str(out_path), crf=17, vcodec='libx264').run(capture_stdout=True)\n\u001b[0m\u001b[1;32m     24\u001b[0m \u001b[0;34m\u001b[0m\u001b[0m\n\u001b[1;32m     25\u001b[0m         \u001b[0mresult_path\u001b[0m \u001b[0;34m=\u001b[0m \u001b[0mresult_folder\u001b[0m \u001b[0;34m/\u001b[0m \u001b[0msource_path\u001b[0m\u001b[0;34m.\u001b[0m\u001b[0mname\u001b[0m\u001b[0;34m\u001b[0m\u001b[0;34m\u001b[0m\u001b[0m\n",
            "\u001b[0;32m/usr/local/lib/python3.7/dist-packages/ffmpeg/_run.py\u001b[0m in \u001b[0;36mrun\u001b[0;34m(stream_spec, cmd, capture_stdout, capture_stderr, input, quiet, overwrite_output)\u001b[0m\n\u001b[1;32m    303\u001b[0m     \u001b[0mretcode\u001b[0m \u001b[0;34m=\u001b[0m \u001b[0mprocess\u001b[0m\u001b[0;34m.\u001b[0m\u001b[0mpoll\u001b[0m\u001b[0;34m(\u001b[0m\u001b[0;34m)\u001b[0m\u001b[0;34m\u001b[0m\u001b[0;34m\u001b[0m\u001b[0m\n\u001b[1;32m    304\u001b[0m     \u001b[0;32mif\u001b[0m \u001b[0mretcode\u001b[0m\u001b[0;34m:\u001b[0m\u001b[0;34m\u001b[0m\u001b[0;34m\u001b[0m\u001b[0m\n\u001b[0;32m--> 305\u001b[0;31m         \u001b[0;32mraise\u001b[0m \u001b[0mError\u001b[0m\u001b[0;34m(\u001b[0m\u001b[0;34m'ffmpeg'\u001b[0m\u001b[0;34m,\u001b[0m \u001b[0mout\u001b[0m\u001b[0;34m,\u001b[0m \u001b[0merr\u001b[0m\u001b[0;34m)\u001b[0m\u001b[0;34m\u001b[0m\u001b[0;34m\u001b[0m\u001b[0m\n\u001b[0m\u001b[1;32m    306\u001b[0m     \u001b[0;32mreturn\u001b[0m \u001b[0mout\u001b[0m\u001b[0;34m,\u001b[0m \u001b[0merr\u001b[0m\u001b[0;34m\u001b[0m\u001b[0;34m\u001b[0m\u001b[0m\n\u001b[1;32m    307\u001b[0m \u001b[0;34m\u001b[0m\u001b[0m\n",
            "\u001b[0;31mError\u001b[0m: ffmpeg error (see stderr output for detail)"
          ]
        }
      ]
    },
    {
      "cell_type": "markdown",
      "metadata": {
        "id": "SOo3CR9j-VvE"
      },
      "source": [
        "\n",
        "\n",
        "\n",
        "\n",
        "\n",
        "\n",
        "\n",
        "\n",
        "\n",
        "\n",
        "\n",
        "\n",
        "\n",
        "\n",
        "\n",
        "\n",
        "\n",
        "\n",
        "\n",
        "\n",
        "\n",
        "\n",
        "\n",
        "\n",
        "\n",
        "\n",
        "# Test it out!\n",
        "\n",
        "## Instructions\n",
        "\n",
        "This should look familiar to anyone who has used the Colab notebooks in DeOldify. Let us run through the options: \n",
        "\n",
        "**source_url:** This is the youtube (or other sources) link you want to download your video from.\n",
        "\n",
        "**original_video_quality:** You can also pass in an argument on what the quality of the video downloaded should be (based on the options we get in youtube).\n",
        "\n",
        "**data_mode:** The EDVR model you want to use\n",
        "\n",
        "**finetune_stage2:** A boolean indicating if you want to fine-tune your results using the stage 2 models.\n",
        "\n",
        "## About EDVR \n",
        "\n",
        "EDVR has a bunch of models which can take a while to wrap your head around.\n",
        "\n",
        "Here is their guide for it: https://github.com/xinntao/EDVR/wiki/Model-Zoo\n",
        "\n",
        "I think It's easier to understand by what they do. **There are 5 models in total.**\n",
        "\n",
        "There are 3 models that can enhance the resolution of an image by 4x: **Vid4, sharp_bicubic and blur_bicubic**.\n",
        "\n",
        "Vid4 was trained on the Vimeo90K dataset while the other two were trained on the REDS dataset. \n",
        "\n",
        "The sharp_bicubic model was trained by simply reducing the size of the training images while the blur_bicubic model had added noise in the inputs to deal with. So the blur_bicubic model is better suited to handling blurry inputs vs the sharp_bicubic model.\n",
        "\n",
        "The **blur** model simply deblurs an image without resiizng it.\n",
        "\n",
        "The **blur_comp** (my favorite) model deblurs and removes compression artifacts from the video.\n",
        "\n",
        "The EDVR team won the NTIRE 2019 Challenges on Video Restoration and Enhancement competition on the REDS dataset with these models. For their winning approach they fine-tuned the results on a second set of models that they call stage-2. You have the option of selecting True for finetune_stage2 which will run your frames through a second time and fine-tune them but remember this will double the time it takes to process your video.\n",
        "\n"
      ]
    },
    {
      "cell_type": "code",
      "metadata": {
        "id": "z7ZgyAUi0X-i",
        "colab": {
          "base_uri": "https://localhost:8080/",
          "height": 667
        },
        "outputId": "4cc5590a-75d9-48ee-ff0a-73d92f0ce95e"
      },
      "source": [
        "source_url = 'https://www.youtube.com/watch?v=MT-70ni4Ddo' #@param {type:\"string\"}\n",
        "original_video_quality = '720' #@param [\"144\", \"240\", \"360\", \"480\", \"720\", \"1080\"]\n",
        "data_mode= 'blur_comp' #@param [\"Vid4\", \"sharp_bicubic\", \"blur_bicubic\", \"blur\", \"blur_comp\"]\n",
        "finetune_stage2 = False #@param [\"False\", \"True\"] {type:\"raw\"}\n",
        "\n",
        "edvr_video(source_url, Path('/content/video.mp4'), data_mode, \n",
        "            original_video_quality, 100, finetune_stage2)\n",
        "\n",
        "# clear_output()\n"
      ],
      "execution_count": null,
      "outputs": [
        {
          "output_type": "stream",
          "text": [
            "[youtube] MT-70ni4Ddo: Downloading webpage\n",
            "[download] Destination: /content/video.f136.mp4\n",
            "[download] 100% of 5.29MiB in 00:00\n",
            "[download] Destination: /content/video.mp4.f140\n",
            "[download] 100% of 737.22KiB in 00:00\n",
            "[ffmpeg] Merging formats into \"/content/video.mp4\"\n",
            "Deleting original file /content/video.f136.mp4 (pass -k to keep)\n",
            "Deleting original file /content/video.mp4.f140 (pass -k to keep)\n",
            "Model Used:  /content/EDVR/experiments/pretrained_models/EDVR_REDS_deblurcomp_L.pth\n",
            "定义model\n",
            "subfolder\n",
            "['/content/EDVR/video/inframes/video/00001.jpg', '/content/EDVR/video/inframes/video/00002.jpg', '/content/EDVR/video/inframes/video/00003.jpg', '/content/EDVR/video/inframes/video/00004.jpg', '/content/EDVR/video/inframes/video/00005.jpg', '/content/EDVR/video/inframes/video/00006.jpg', '/content/EDVR/video/inframes/video/00007.jpg', '/content/EDVR/video/inframes/video/00008.jpg', '/content/EDVR/video/inframes/video/00009.jpg', '/content/EDVR/video/inframes/video/00010.jpg', '/content/EDVR/video/inframes/video/00011.jpg', '/content/EDVR/video/inframes/video/00012.jpg', '/content/EDVR/video/inframes/video/00013.jpg', '/content/EDVR/video/inframes/video/00014.jpg', '/content/EDVR/video/inframes/video/00015.jpg', '/content/EDVR/video/inframes/video/00016.jpg', '/content/EDVR/video/inframes/video/00017.jpg', '/content/EDVR/video/inframes/video/00018.jpg', '/content/EDVR/video/inframes/video/00019.jpg', '/content/EDVR/video/inframes/video/00020.jpg', '/content/EDVR/video/inframes/video/00021.jpg', '/content/EDVR/video/inframes/video/00022.jpg', '/content/EDVR/video/inframes/video/00023.jpg', '/content/EDVR/video/inframes/video/00024.jpg', '/content/EDVR/video/inframes/video/00025.jpg', '/content/EDVR/video/inframes/video/00026.jpg', '/content/EDVR/video/inframes/video/00027.jpg', '/content/EDVR/video/inframes/video/00028.jpg', '/content/EDVR/video/inframes/video/00029.jpg', '/content/EDVR/video/inframes/video/00030.jpg', '/content/EDVR/video/inframes/video/00031.jpg', '/content/EDVR/video/inframes/video/00032.jpg', '/content/EDVR/video/inframes/video/00033.jpg', '/content/EDVR/video/inframes/video/00034.jpg', '/content/EDVR/video/inframes/video/00035.jpg', '/content/EDVR/video/inframes/video/00036.jpg', '/content/EDVR/video/inframes/video/00037.jpg', '/content/EDVR/video/inframes/video/00038.jpg', '/content/EDVR/video/inframes/video/00039.jpg', '/content/EDVR/video/inframes/video/00040.jpg', '/content/EDVR/video/inframes/video/00041.jpg', '/content/EDVR/video/inframes/video/00042.jpg', '/content/EDVR/video/inframes/video/00043.jpg', '/content/EDVR/video/inframes/video/00044.jpg', '/content/EDVR/video/inframes/video/00045.jpg', '/content/EDVR/video/inframes/video/00046.jpg', '/content/EDVR/video/inframes/video/00047.jpg', '/content/EDVR/video/inframes/video/00048.jpg', '/content/EDVR/video/inframes/video/00049.jpg', '/content/EDVR/video/inframes/video/00050.jpg', '/content/EDVR/video/inframes/video/00051.jpg', '/content/EDVR/video/inframes/video/00052.jpg', '/content/EDVR/video/inframes/video/00053.jpg', '/content/EDVR/video/inframes/video/00054.jpg', '/content/EDVR/video/inframes/video/00055.jpg', '/content/EDVR/video/inframes/video/00056.jpg', '/content/EDVR/video/inframes/video/00057.jpg', '/content/EDVR/video/inframes/video/00058.jpg', '/content/EDVR/video/inframes/video/00059.jpg', '/content/EDVR/video/inframes/video/00060.jpg', '/content/EDVR/video/inframes/video/00061.jpg', '/content/EDVR/video/inframes/video/00062.jpg', '/content/EDVR/video/inframes/video/00063.jpg', '/content/EDVR/video/inframes/video/00064.jpg', '/content/EDVR/video/inframes/video/00065.jpg', '/content/EDVR/video/inframes/video/00066.jpg', '/content/EDVR/video/inframes/video/00067.jpg', '/content/EDVR/video/inframes/video/00068.jpg', '/content/EDVR/video/inframes/video/00069.jpg', '/content/EDVR/video/inframes/video/00070.jpg', '/content/EDVR/video/inframes/video/00071.jpg', '/content/EDVR/video/inframes/video/00072.jpg', '/content/EDVR/video/inframes/video/00073.jpg', '/content/EDVR/video/inframes/video/00074.jpg', '/content/EDVR/video/inframes/video/00075.jpg', '/content/EDVR/video/inframes/video/00076.jpg', '/content/EDVR/video/inframes/video/00077.jpg', '/content/EDVR/video/inframes/video/00078.jpg', '/content/EDVR/video/inframes/video/00079.jpg', '/content/EDVR/video/inframes/video/00080.jpg', '/content/EDVR/video/inframes/video/00081.jpg', '/content/EDVR/video/inframes/video/00082.jpg', '/content/EDVR/video/inframes/video/00083.jpg', '/content/EDVR/video/inframes/video/00084.jpg', '/content/EDVR/video/inframes/video/00085.jpg', '/content/EDVR/video/inframes/video/00086.jpg', '/content/EDVR/video/inframes/video/00087.jpg', '/content/EDVR/video/inframes/video/00088.jpg', '/content/EDVR/video/inframes/video/00089.jpg', '/content/EDVR/video/inframes/video/00090.jpg', '/content/EDVR/video/inframes/video/00091.jpg', '/content/EDVR/video/inframes/video/00092.jpg', '/content/EDVR/video/inframes/video/00093.jpg', '/content/EDVR/video/inframes/video/00094.jpg', '/content/EDVR/video/inframes/video/00095.jpg', '/content/EDVR/video/inframes/video/00096.jpg', '/content/EDVR/video/inframes/video/00097.jpg', '/content/EDVR/video/inframes/video/00098.jpg', '/content/EDVR/video/inframes/video/00099.jpg', '/content/EDVR/video/inframes/video/00100.jpg', '/content/EDVR/video/inframes/video/00101.jpg', '/content/EDVR/video/inframes/video/00102.jpg', '/content/EDVR/video/inframes/video/00103.jpg', '/content/EDVR/video/inframes/video/00104.jpg', '/content/EDVR/video/inframes/video/00105.jpg', '/content/EDVR/video/inframes/video/00106.jpg', '/content/EDVR/video/inframes/video/00107.jpg', '/content/EDVR/video/inframes/video/00108.jpg', '/content/EDVR/video/inframes/video/00109.jpg', '/content/EDVR/video/inframes/video/00110.jpg', '/content/EDVR/video/inframes/video/00111.jpg', '/content/EDVR/video/inframes/video/00112.jpg', '/content/EDVR/video/inframes/video/00113.jpg', '/content/EDVR/video/inframes/video/00114.jpg', '/content/EDVR/video/inframes/video/00115.jpg', '/content/EDVR/video/inframes/video/00116.jpg', '/content/EDVR/video/inframes/video/00117.jpg', '/content/EDVR/video/inframes/video/00118.jpg', '/content/EDVR/video/inframes/video/00119.jpg', '/content/EDVR/video/inframes/video/00120.jpg', '/content/EDVR/video/inframes/video/00121.jpg', '/content/EDVR/video/inframes/video/00122.jpg', '/content/EDVR/video/inframes/video/00123.jpg', '/content/EDVR/video/inframes/video/00124.jpg', '/content/EDVR/video/inframes/video/00125.jpg', '/content/EDVR/video/inframes/video/00126.jpg', '/content/EDVR/video/inframes/video/00127.jpg', '/content/EDVR/video/inframes/video/00128.jpg', '/content/EDVR/video/inframes/video/00129.jpg', '/content/EDVR/video/inframes/video/00130.jpg', '/content/EDVR/video/inframes/video/00131.jpg', '/content/EDVR/video/inframes/video/00132.jpg', '/content/EDVR/video/inframes/video/00133.jpg', '/content/EDVR/video/inframes/video/00134.jpg', '/content/EDVR/video/inframes/video/00135.jpg', '/content/EDVR/video/inframes/video/00136.jpg', '/content/EDVR/video/inframes/video/00137.jpg', '/content/EDVR/video/inframes/video/00138.jpg', '/content/EDVR/video/inframes/video/00139.jpg', '/content/EDVR/video/inframes/video/00140.jpg', '/content/EDVR/video/inframes/video/00141.jpg', '/content/EDVR/video/inframes/video/00142.jpg', '/content/EDVR/video/inframes/video/00143.jpg', '/content/EDVR/video/inframes/video/00144.jpg', '/content/EDVR/video/inframes/video/00145.jpg', '/content/EDVR/video/inframes/video/00146.jpg', '/content/EDVR/video/inframes/video/00147.jpg', '/content/EDVR/video/inframes/video/00148.jpg', '/content/EDVR/video/inframes/video/00149.jpg', '/content/EDVR/video/inframes/video/00150.jpg', '/content/EDVR/video/inframes/video/00151.jpg', '/content/EDVR/video/inframes/video/00152.jpg', '/content/EDVR/video/inframes/video/00153.jpg', '/content/EDVR/video/inframes/video/00154.jpg', '/content/EDVR/video/inframes/video/00155.jpg', '/content/EDVR/video/inframes/video/00156.jpg', '/content/EDVR/video/inframes/video/00157.jpg', '/content/EDVR/video/inframes/video/00158.jpg', '/content/EDVR/video/inframes/video/00159.jpg', '/content/EDVR/video/inframes/video/00160.jpg', '/content/EDVR/video/inframes/video/00161.jpg', '/content/EDVR/video/inframes/video/00162.jpg', '/content/EDVR/video/inframes/video/00163.jpg', '/content/EDVR/video/inframes/video/00164.jpg', '/content/EDVR/video/inframes/video/00165.jpg', '/content/EDVR/video/inframes/video/00166.jpg', '/content/EDVR/video/inframes/video/00167.jpg', '/content/EDVR/video/inframes/video/00168.jpg', '/content/EDVR/video/inframes/video/00169.jpg', '/content/EDVR/video/inframes/video/00170.jpg', '/content/EDVR/video/inframes/video/00171.jpg', '/content/EDVR/video/inframes/video/00172.jpg', '/content/EDVR/video/inframes/video/00173.jpg', '/content/EDVR/video/inframes/video/00174.jpg', '/content/EDVR/video/inframes/video/00175.jpg', '/content/EDVR/video/inframes/video/00176.jpg', '/content/EDVR/video/inframes/video/00177.jpg', '/content/EDVR/video/inframes/video/00178.jpg', '/content/EDVR/video/inframes/video/00179.jpg', '/content/EDVR/video/inframes/video/00180.jpg', '/content/EDVR/video/inframes/video/00181.jpg', '/content/EDVR/video/inframes/video/00182.jpg', '/content/EDVR/video/inframes/video/00183.jpg', '/content/EDVR/video/inframes/video/00184.jpg', '/content/EDVR/video/inframes/video/00185.jpg', '/content/EDVR/video/inframes/video/00186.jpg', '/content/EDVR/video/inframes/video/00187.jpg', '/content/EDVR/video/inframes/video/00188.jpg', '/content/EDVR/video/inframes/video/00189.jpg', '/content/EDVR/video/inframes/video/00190.jpg', '/content/EDVR/video/inframes/video/00191.jpg', '/content/EDVR/video/inframes/video/00192.jpg', '/content/EDVR/video/inframes/video/00193.jpg', '/content/EDVR/video/inframes/video/00194.jpg', '/content/EDVR/video/inframes/video/00195.jpg', '/content/EDVR/video/inframes/video/00196.jpg', '/content/EDVR/video/inframes/video/00197.jpg', '/content/EDVR/video/inframes/video/00198.jpg', '/content/EDVR/video/inframes/video/00199.jpg', '/content/EDVR/video/inframes/video/00200.jpg', '/content/EDVR/video/inframes/video/00201.jpg', '/content/EDVR/video/inframes/video/00202.jpg', '/content/EDVR/video/inframes/video/00203.jpg', '/content/EDVR/video/inframes/video/00204.jpg', '/content/EDVR/video/inframes/video/00205.jpg', '/content/EDVR/video/inframes/video/00206.jpg', '/content/EDVR/video/inframes/video/00207.jpg', '/content/EDVR/video/inframes/video/00208.jpg', '/content/EDVR/video/inframes/video/00209.jpg', '/content/EDVR/video/inframes/video/00210.jpg', '/content/EDVR/video/inframes/video/00211.jpg', '/content/EDVR/video/inframes/video/00212.jpg', '/content/EDVR/video/inframes/video/00213.jpg', '/content/EDVR/video/inframes/video/00214.jpg', '/content/EDVR/video/inframes/video/00215.jpg', '/content/EDVR/video/inframes/video/00216.jpg', '/content/EDVR/video/inframes/video/00217.jpg', '/content/EDVR/video/inframes/video/00218.jpg', '/content/EDVR/video/inframes/video/00219.jpg', '/content/EDVR/video/inframes/video/00220.jpg', '/content/EDVR/video/inframes/video/00221.jpg', '/content/EDVR/video/inframes/video/00222.jpg', '/content/EDVR/video/inframes/video/00223.jpg', '/content/EDVR/video/inframes/video/00224.jpg', '/content/EDVR/video/inframes/video/00225.jpg', '/content/EDVR/video/inframes/video/00226.jpg', '/content/EDVR/video/inframes/video/00227.jpg', '/content/EDVR/video/inframes/video/00228.jpg', '/content/EDVR/video/inframes/video/00229.jpg', '/content/EDVR/video/inframes/video/00230.jpg', '/content/EDVR/video/inframes/video/00231.jpg', '/content/EDVR/video/inframes/video/00232.jpg', '/content/EDVR/video/inframes/video/00233.jpg', '/content/EDVR/video/inframes/video/00234.jpg', '/content/EDVR/video/inframes/video/00235.jpg', '/content/EDVR/video/inframes/video/00236.jpg', '/content/EDVR/video/inframes/video/00237.jpg', '/content/EDVR/video/inframes/video/00238.jpg', '/content/EDVR/video/inframes/video/00239.jpg', '/content/EDVR/video/inframes/video/00240.jpg', '/content/EDVR/video/inframes/video/00241.jpg', '/content/EDVR/video/inframes/video/00242.jpg', '/content/EDVR/video/inframes/video/00243.jpg', '/content/EDVR/video/inframes/video/00244.jpg', '/content/EDVR/video/inframes/video/00245.jpg', '/content/EDVR/video/inframes/video/00246.jpg', '/content/EDVR/video/inframes/video/00247.jpg', '/content/EDVR/video/inframes/video/00248.jpg', '/content/EDVR/video/inframes/video/00249.jpg', '/content/EDVR/video/inframes/video/00250.jpg', '/content/EDVR/video/inframes/video/00251.jpg', '/content/EDVR/video/inframes/video/00252.jpg', '/content/EDVR/video/inframes/video/00253.jpg', '/content/EDVR/video/inframes/video/00254.jpg', '/content/EDVR/video/inframes/video/00255.jpg', '/content/EDVR/video/inframes/video/00256.jpg', '/content/EDVR/video/inframes/video/00257.jpg', '/content/EDVR/video/inframes/video/00258.jpg', '/content/EDVR/video/inframes/video/00259.jpg', '/content/EDVR/video/inframes/video/00260.jpg', '/content/EDVR/video/inframes/video/00261.jpg', '/content/EDVR/video/inframes/video/00262.jpg', '/content/EDVR/video/inframes/video/00263.jpg', '/content/EDVR/video/inframes/video/00264.jpg', '/content/EDVR/video/inframes/video/00265.jpg', '/content/EDVR/video/inframes/video/00266.jpg', '/content/EDVR/video/inframes/video/00267.jpg', '/content/EDVR/video/inframes/video/00268.jpg', '/content/EDVR/video/inframes/video/00269.jpg', '/content/EDVR/video/inframes/video/00270.jpg', '/content/EDVR/video/inframes/video/00271.jpg', '/content/EDVR/video/inframes/video/00272.jpg', '/content/EDVR/video/inframes/video/00273.jpg', '/content/EDVR/video/inframes/video/00274.jpg', '/content/EDVR/video/inframes/video/00275.jpg', '/content/EDVR/video/inframes/video/00276.jpg', '/content/EDVR/video/inframes/video/00277.jpg', '/content/EDVR/video/inframes/video/00278.jpg', '/content/EDVR/video/inframes/video/00279.jpg', '/content/EDVR/video/inframes/video/00280.jpg', '/content/EDVR/video/inframes/video/00281.jpg', '/content/EDVR/video/inframes/video/00282.jpg', '/content/EDVR/video/inframes/video/00283.jpg', '/content/EDVR/video/inframes/video/00284.jpg', '/content/EDVR/video/inframes/video/00285.jpg', '/content/EDVR/video/inframes/video/00286.jpg', '/content/EDVR/video/inframes/video/00287.jpg', '/content/EDVR/video/inframes/video/00288.jpg', '/content/EDVR/video/inframes/video/00289.jpg', '/content/EDVR/video/inframes/video/00290.jpg', '/content/EDVR/video/inframes/video/00291.jpg', '/content/EDVR/video/inframes/video/00292.jpg', '/content/EDVR/video/inframes/video/00293.jpg', '/content/EDVR/video/inframes/video/00294.jpg', '/content/EDVR/video/inframes/video/00295.jpg', '/content/EDVR/video/inframes/video/00296.jpg', '/content/EDVR/video/inframes/video/00297.jpg', '/content/EDVR/video/inframes/video/00298.jpg', '/content/EDVR/video/inframes/video/00299.jpg', '/content/EDVR/video/inframes/video/00300.jpg', '/content/EDVR/video/inframes/video/00301.jpg', '/content/EDVR/video/inframes/video/00302.jpg', '/content/EDVR/video/inframes/video/00303.jpg', '/content/EDVR/video/inframes/video/00304.jpg', '/content/EDVR/video/inframes/video/00305.jpg', '/content/EDVR/video/inframes/video/00306.jpg', '/content/EDVR/video/inframes/video/00307.jpg', '/content/EDVR/video/inframes/video/00308.jpg', '/content/EDVR/video/inframes/video/00309.jpg', '/content/EDVR/video/inframes/video/00310.jpg', '/content/EDVR/video/inframes/video/00311.jpg', '/content/EDVR/video/inframes/video/00312.jpg', '/content/EDVR/video/inframes/video/00313.jpg', '/content/EDVR/video/inframes/video/00314.jpg', '/content/EDVR/video/inframes/video/00315.jpg', '/content/EDVR/video/inframes/video/00316.jpg', '/content/EDVR/video/inframes/video/00317.jpg', '/content/EDVR/video/inframes/video/00318.jpg', '/content/EDVR/video/inframes/video/00319.jpg', '/content/EDVR/video/inframes/video/00320.jpg', '/content/EDVR/video/inframes/video/00321.jpg', '/content/EDVR/video/inframes/video/00322.jpg', '/content/EDVR/video/inframes/video/00323.jpg', '/content/EDVR/video/inframes/video/00324.jpg', '/content/EDVR/video/inframes/video/00325.jpg', '/content/EDVR/video/inframes/video/00326.jpg', '/content/EDVR/video/inframes/video/00327.jpg', '/content/EDVR/video/inframes/video/00328.jpg', '/content/EDVR/video/inframes/video/00329.jpg', '/content/EDVR/video/inframes/video/00330.jpg', '/content/EDVR/video/inframes/video/00331.jpg', '/content/EDVR/video/inframes/video/00332.jpg', '/content/EDVR/video/inframes/video/00333.jpg', '/content/EDVR/video/inframes/video/00334.jpg', '/content/EDVR/video/inframes/video/00335.jpg', '/content/EDVR/video/inframes/video/00336.jpg', '/content/EDVR/video/inframes/video/00337.jpg', '/content/EDVR/video/inframes/video/00338.jpg', '/content/EDVR/video/inframes/video/00339.jpg', '/content/EDVR/video/inframes/video/00340.jpg', '/content/EDVR/video/inframes/video/00341.jpg', '/content/EDVR/video/inframes/video/00342.jpg', '/content/EDVR/video/inframes/video/00343.jpg', '/content/EDVR/video/inframes/video/00344.jpg', '/content/EDVR/video/inframes/video/00345.jpg', '/content/EDVR/video/inframes/video/00346.jpg', '/content/EDVR/video/inframes/video/00347.jpg', '/content/EDVR/video/inframes/video/00348.jpg', '/content/EDVR/video/inframes/video/00349.jpg', '/content/EDVR/video/inframes/video/00350.jpg', '/content/EDVR/video/inframes/video/00351.jpg', '/content/EDVR/video/inframes/video/00352.jpg', '/content/EDVR/video/inframes/video/00353.jpg', '/content/EDVR/video/inframes/video/00354.jpg', '/content/EDVR/video/inframes/video/00355.jpg', '/content/EDVR/video/inframes/video/00356.jpg', '/content/EDVR/video/inframes/video/00357.jpg', '/content/EDVR/video/inframes/video/00358.jpg', '/content/EDVR/video/inframes/video/00359.jpg', '/content/EDVR/video/inframes/video/00360.jpg', '/content/EDVR/video/inframes/video/00361.jpg', '/content/EDVR/video/inframes/video/00362.jpg', '/content/EDVR/video/inframes/video/00363.jpg', '/content/EDVR/video/inframes/video/00364.jpg', '/content/EDVR/video/inframes/video/00365.jpg', '/content/EDVR/video/inframes/video/00366.jpg', '/content/EDVR/video/inframes/video/00367.jpg', '/content/EDVR/video/inframes/video/00368.jpg', '/content/EDVR/video/inframes/video/00369.jpg', '/content/EDVR/video/inframes/video/00370.jpg', '/content/EDVR/video/inframes/video/00371.jpg', '/content/EDVR/video/inframes/video/00372.jpg', '/content/EDVR/video/inframes/video/00373.jpg', '/content/EDVR/video/inframes/video/00374.jpg', '/content/EDVR/video/inframes/video/00375.jpg', '/content/EDVR/video/inframes/video/00376.jpg', '/content/EDVR/video/inframes/video/00377.jpg', '/content/EDVR/video/inframes/video/00378.jpg', '/content/EDVR/video/inframes/video/00379.jpg', '/content/EDVR/video/inframes/video/00380.jpg', '/content/EDVR/video/inframes/video/00381.jpg', '/content/EDVR/video/inframes/video/00382.jpg', '/content/EDVR/video/inframes/video/00383.jpg', '/content/EDVR/video/inframes/video/00384.jpg', '/content/EDVR/video/inframes/video/00385.jpg', '/content/EDVR/video/inframes/video/00386.jpg', '/content/EDVR/video/inframes/video/00387.jpg', '/content/EDVR/video/inframes/video/00388.jpg', '/content/EDVR/video/inframes/video/00389.jpg', '/content/EDVR/video/inframes/video/00390.jpg', '/content/EDVR/video/inframes/video/00391.jpg', '/content/EDVR/video/inframes/video/00392.jpg', '/content/EDVR/video/inframes/video/00393.jpg', '/content/EDVR/video/inframes/video/00394.jpg', '/content/EDVR/video/inframes/video/00395.jpg', '/content/EDVR/video/inframes/video/00396.jpg', '/content/EDVR/video/inframes/video/00397.jpg', '/content/EDVR/video/inframes/video/00398.jpg', '/content/EDVR/video/inframes/video/00399.jpg', '/content/EDVR/video/inframes/video/00400.jpg', '/content/EDVR/video/inframes/video/00401.jpg', '/content/EDVR/video/inframes/video/00402.jpg', '/content/EDVR/video/inframes/video/00403.jpg', '/content/EDVR/video/inframes/video/00404.jpg', '/content/EDVR/video/inframes/video/00405.jpg', '/content/EDVR/video/inframes/video/00406.jpg', '/content/EDVR/video/inframes/video/00407.jpg', '/content/EDVR/video/inframes/video/00408.jpg', '/content/EDVR/video/inframes/video/00409.jpg', '/content/EDVR/video/inframes/video/00410.jpg', '/content/EDVR/video/inframes/video/00411.jpg', '/content/EDVR/video/inframes/video/00412.jpg', '/content/EDVR/video/inframes/video/00413.jpg', '/content/EDVR/video/inframes/video/00414.jpg', '/content/EDVR/video/inframes/video/00415.jpg', '/content/EDVR/video/inframes/video/00416.jpg', '/content/EDVR/video/inframes/video/00417.jpg', '/content/EDVR/video/inframes/video/00418.jpg', '/content/EDVR/video/inframes/video/00419.jpg', '/content/EDVR/video/inframes/video/00420.jpg', '/content/EDVR/video/inframes/video/00421.jpg', '/content/EDVR/video/inframes/video/00422.jpg', '/content/EDVR/video/inframes/video/00423.jpg', '/content/EDVR/video/inframes/video/00424.jpg', '/content/EDVR/video/inframes/video/00425.jpg', '/content/EDVR/video/inframes/video/00426.jpg', '/content/EDVR/video/inframes/video/00427.jpg', '/content/EDVR/video/inframes/video/00428.jpg', '/content/EDVR/video/inframes/video/00429.jpg', '/content/EDVR/video/inframes/video/00430.jpg', '/content/EDVR/video/inframes/video/00431.jpg', '/content/EDVR/video/inframes/video/00432.jpg', '/content/EDVR/video/inframes/video/00433.jpg', '/content/EDVR/video/inframes/video/00434.jpg', '/content/EDVR/video/inframes/video/00435.jpg', '/content/EDVR/video/inframes/video/00436.jpg', '/content/EDVR/video/inframes/video/00437.jpg', '/content/EDVR/video/inframes/video/00438.jpg', '/content/EDVR/video/inframes/video/00439.jpg', '/content/EDVR/video/inframes/video/00440.jpg', '/content/EDVR/video/inframes/video/00441.jpg', '/content/EDVR/video/inframes/video/00442.jpg', '/content/EDVR/video/inframes/video/00443.jpg', '/content/EDVR/video/inframes/video/00444.jpg', '/content/EDVR/video/inframes/video/00445.jpg', '/content/EDVR/video/inframes/video/00446.jpg', '/content/EDVR/video/inframes/video/00447.jpg', '/content/EDVR/video/inframes/video/00448.jpg', '/content/EDVR/video/inframes/video/00449.jpg', '/content/EDVR/video/inframes/video/00450.jpg', '/content/EDVR/video/inframes/video/00451.jpg', '/content/EDVR/video/inframes/video/00452.jpg', '/content/EDVR/video/inframes/video/00453.jpg', '/content/EDVR/video/inframes/video/00454.jpg', '/content/EDVR/video/inframes/video/00455.jpg', '/content/EDVR/video/inframes/video/00456.jpg', '/content/EDVR/video/inframes/video/00457.jpg', '/content/EDVR/video/inframes/video/00458.jpg', '/content/EDVR/video/inframes/video/00459.jpg', '/content/EDVR/video/inframes/video/00460.jpg', '/content/EDVR/video/inframes/video/00461.jpg', '/content/EDVR/video/inframes/video/00462.jpg', '/content/EDVR/video/inframes/video/00463.jpg', '/content/EDVR/video/inframes/video/00464.jpg', '/content/EDVR/video/inframes/video/00465.jpg', '/content/EDVR/video/inframes/video/00466.jpg', '/content/EDVR/video/inframes/video/00467.jpg', '/content/EDVR/video/inframes/video/00468.jpg', '/content/EDVR/video/inframes/video/00469.jpg', '/content/EDVR/video/inframes/video/00470.jpg', '/content/EDVR/video/inframes/video/00471.jpg', '/content/EDVR/video/inframes/video/00472.jpg', '/content/EDVR/video/inframes/video/00473.jpg', '/content/EDVR/video/inframes/video/00474.jpg', '/content/EDVR/video/inframes/video/00475.jpg', '/content/EDVR/video/inframes/video/00476.jpg', '/content/EDVR/video/inframes/video/00477.jpg', '/content/EDVR/video/inframes/video/00478.jpg', '/content/EDVR/video/inframes/video/00479.jpg', '/content/EDVR/video/inframes/video/00480.jpg', '/content/EDVR/video/inframes/video/00481.jpg', '/content/EDVR/video/inframes/video/00482.jpg', '/content/EDVR/video/inframes/video/00483.jpg', '/content/EDVR/video/inframes/video/00484.jpg', '/content/EDVR/video/inframes/video/00485.jpg', '/content/EDVR/video/inframes/video/00486.jpg', '/content/EDVR/video/inframes/video/00487.jpg', '/content/EDVR/video/inframes/video/00488.jpg', '/content/EDVR/video/inframes/video/00489.jpg', '/content/EDVR/video/inframes/video/00490.jpg', '/content/EDVR/video/inframes/video/00491.jpg', '/content/EDVR/video/inframes/video/00492.jpg', '/content/EDVR/video/inframes/video/00493.jpg', '/content/EDVR/video/inframes/video/00494.jpg', '/content/EDVR/video/inframes/video/00495.jpg', '/content/EDVR/video/inframes/video/00496.jpg', '/content/EDVR/video/inframes/video/00497.jpg', '/content/EDVR/video/inframes/video/00498.jpg', '/content/EDVR/video/inframes/video/00499.jpg', '/content/EDVR/video/inframes/video/00500.jpg', '/content/EDVR/video/inframes/video/00501.jpg', '/content/EDVR/video/inframes/video/00502.jpg', '/content/EDVR/video/inframes/video/00503.jpg', '/content/EDVR/video/inframes/video/00504.jpg', '/content/EDVR/video/inframes/video/00505.jpg', '/content/EDVR/video/inframes/video/00506.jpg', '/content/EDVR/video/inframes/video/00507.jpg', '/content/EDVR/video/inframes/video/00508.jpg', '/content/EDVR/video/inframes/video/00509.jpg', '/content/EDVR/video/inframes/video/00510.jpg', '/content/EDVR/video/inframes/video/00511.jpg', '/content/EDVR/video/inframes/video/00512.jpg', '/content/EDVR/video/inframes/video/00513.jpg', '/content/EDVR/video/inframes/video/00514.jpg', '/content/EDVR/video/inframes/video/00515.jpg', '/content/EDVR/video/inframes/video/00516.jpg', '/content/EDVR/video/inframes/video/00517.jpg', '/content/EDVR/video/inframes/video/00518.jpg', '/content/EDVR/video/inframes/video/00519.jpg', '/content/EDVR/video/inframes/video/00520.jpg', '/content/EDVR/video/inframes/video/00521.jpg', '/content/EDVR/video/inframes/video/00522.jpg', '/content/EDVR/video/inframes/video/00523.jpg', '/content/EDVR/video/inframes/video/00524.jpg', '/content/EDVR/video/inframes/video/00525.jpg', '/content/EDVR/video/inframes/video/00526.jpg', '/content/EDVR/video/inframes/video/00527.jpg', '/content/EDVR/video/inframes/video/00528.jpg', '/content/EDVR/video/inframes/video/00529.jpg', '/content/EDVR/video/inframes/video/00530.jpg', '/content/EDVR/video/inframes/video/00531.jpg', '/content/EDVR/video/inframes/video/00532.jpg', '/content/EDVR/video/inframes/video/00533.jpg', '/content/EDVR/video/inframes/video/00534.jpg', '/content/EDVR/video/inframes/video/00535.jpg', '/content/EDVR/video/inframes/video/00536.jpg', '/content/EDVR/video/inframes/video/00537.jpg', '/content/EDVR/video/inframes/video/00538.jpg', '/content/EDVR/video/inframes/video/00539.jpg', '/content/EDVR/video/inframes/video/00540.jpg', '/content/EDVR/video/inframes/video/00541.jpg', '/content/EDVR/video/inframes/video/00542.jpg', '/content/EDVR/video/inframes/video/00543.jpg', '/content/EDVR/video/inframes/video/00544.jpg', '/content/EDVR/video/inframes/video/00545.jpg', '/content/EDVR/video/inframes/video/00546.jpg', '/content/EDVR/video/inframes/video/00547.jpg', '/content/EDVR/video/inframes/video/00548.jpg', '/content/EDVR/video/inframes/video/00549.jpg', '/content/EDVR/video/inframes/video/00550.jpg', '/content/EDVR/video/inframes/video/00551.jpg', '/content/EDVR/video/inframes/video/00552.jpg', '/content/EDVR/video/inframes/video/00553.jpg', '/content/EDVR/video/inframes/video/00554.jpg', '/content/EDVR/video/inframes/video/00555.jpg', '/content/EDVR/video/inframes/video/00556.jpg', '/content/EDVR/video/inframes/video/00557.jpg', '/content/EDVR/video/inframes/video/00558.jpg', '/content/EDVR/video/inframes/video/00559.jpg', '/content/EDVR/video/inframes/video/00560.jpg', '/content/EDVR/video/inframes/video/00561.jpg', '/content/EDVR/video/inframes/video/00562.jpg', '/content/EDVR/video/inframes/video/00563.jpg', '/content/EDVR/video/inframes/video/00564.jpg', '/content/EDVR/video/inframes/video/00565.jpg', '/content/EDVR/video/inframes/video/00566.jpg', '/content/EDVR/video/inframes/video/00567.jpg', '/content/EDVR/video/inframes/video/00568.jpg', '/content/EDVR/video/inframes/video/00569.jpg', '/content/EDVR/video/inframes/video/00570.jpg', '/content/EDVR/video/inframes/video/00571.jpg', '/content/EDVR/video/inframes/video/00572.jpg', '/content/EDVR/video/inframes/video/00573.jpg', '/content/EDVR/video/inframes/video/00574.jpg', '/content/EDVR/video/inframes/video/00575.jpg', '/content/EDVR/video/inframes/video/00576.jpg', '/content/EDVR/video/inframes/video/00577.jpg', '/content/EDVR/video/inframes/video/00578.jpg', '/content/EDVR/video/inframes/video/00579.jpg', '/content/EDVR/video/inframes/video/00580.jpg', '/content/EDVR/video/inframes/video/00581.jpg', '/content/EDVR/video/inframes/video/00582.jpg', '/content/EDVR/video/inframes/video/00583.jpg', '/content/EDVR/video/inframes/video/00584.jpg', '/content/EDVR/video/inframes/video/00585.jpg', '/content/EDVR/video/inframes/video/00586.jpg', '/content/EDVR/video/inframes/video/00587.jpg', '/content/EDVR/video/inframes/video/00588.jpg', '/content/EDVR/video/inframes/video/00589.jpg', '/content/EDVR/video/inframes/video/00590.jpg', '/content/EDVR/video/inframes/video/00591.jpg', '/content/EDVR/video/inframes/video/00592.jpg', '/content/EDVR/video/inframes/video/00593.jpg', '/content/EDVR/video/inframes/video/00594.jpg', '/content/EDVR/video/inframes/video/00595.jpg', '/content/EDVR/video/inframes/video/00596.jpg', '/content/EDVR/video/inframes/video/00597.jpg', '/content/EDVR/video/inframes/video/00598.jpg', '/content/EDVR/video/inframes/video/00599.jpg', '/content/EDVR/video/inframes/video/00600.jpg', '/content/EDVR/video/inframes/video/00601.jpg', '/content/EDVR/video/inframes/video/00602.jpg', '/content/EDVR/video/inframes/video/00603.jpg', '/content/EDVR/video/inframes/video/00604.jpg', '/content/EDVR/video/inframes/video/00605.jpg', '/content/EDVR/video/inframes/video/00606.jpg', '/content/EDVR/video/inframes/video/00607.jpg', '/content/EDVR/video/inframes/video/00608.jpg', '/content/EDVR/video/inframes/video/00609.jpg', '/content/EDVR/video/inframes/video/00610.jpg', '/content/EDVR/video/inframes/video/00611.jpg', '/content/EDVR/video/inframes/video/00612.jpg', '/content/EDVR/video/inframes/video/00613.jpg', '/content/EDVR/video/inframes/video/00614.jpg', '/content/EDVR/video/inframes/video/00615.jpg', '/content/EDVR/video/inframes/video/00616.jpg', '/content/EDVR/video/inframes/video/00617.jpg', '/content/EDVR/video/inframes/video/00618.jpg', '/content/EDVR/video/inframes/video/00619.jpg', '/content/EDVR/video/inframes/video/00620.jpg', '/content/EDVR/video/inframes/video/00621.jpg', '/content/EDVR/video/inframes/video/00622.jpg', '/content/EDVR/video/inframes/video/00623.jpg', '/content/EDVR/video/inframes/video/00624.jpg', '/content/EDVR/video/inframes/video/00625.jpg', '/content/EDVR/video/inframes/video/00626.jpg', '/content/EDVR/video/inframes/video/00627.jpg', '/content/EDVR/video/inframes/video/00628.jpg', '/content/EDVR/video/inframes/video/00629.jpg', '/content/EDVR/video/inframes/video/00630.jpg', '/content/EDVR/video/inframes/video/00631.jpg', '/content/EDVR/video/inframes/video/00632.jpg', '/content/EDVR/video/inframes/video/00633.jpg', '/content/EDVR/video/inframes/video/00634.jpg', '/content/EDVR/video/inframes/video/00635.jpg', '/content/EDVR/video/inframes/video/00636.jpg', '/content/EDVR/video/inframes/video/00637.jpg', '/content/EDVR/video/inframes/video/00638.jpg', '/content/EDVR/video/inframes/video/00639.jpg', '/content/EDVR/video/inframes/video/00640.jpg', '/content/EDVR/video/inframes/video/00641.jpg', '/content/EDVR/video/inframes/video/00642.jpg', '/content/EDVR/video/inframes/video/00643.jpg', '/content/EDVR/video/inframes/video/00644.jpg', '/content/EDVR/video/inframes/video/00645.jpg', '/content/EDVR/video/inframes/video/00646.jpg', '/content/EDVR/video/inframes/video/00647.jpg', '/content/EDVR/video/inframes/video/00648.jpg', '/content/EDVR/video/inframes/video/00649.jpg', '/content/EDVR/video/inframes/video/00650.jpg', '/content/EDVR/video/inframes/video/00651.jpg', '/content/EDVR/video/inframes/video/00652.jpg', '/content/EDVR/video/inframes/video/00653.jpg', '/content/EDVR/video/inframes/video/00654.jpg', '/content/EDVR/video/inframes/video/00655.jpg', '/content/EDVR/video/inframes/video/00656.jpg', '/content/EDVR/video/inframes/video/00657.jpg', '/content/EDVR/video/inframes/video/00658.jpg', '/content/EDVR/video/inframes/video/00659.jpg', '/content/EDVR/video/inframes/video/00660.jpg', '/content/EDVR/video/inframes/video/00661.jpg', '/content/EDVR/video/inframes/video/00662.jpg', '/content/EDVR/video/inframes/video/00663.jpg', '/content/EDVR/video/inframes/video/00664.jpg', '/content/EDVR/video/inframes/video/00665.jpg', '/content/EDVR/video/inframes/video/00666.jpg', '/content/EDVR/video/inframes/video/00667.jpg', '/content/EDVR/video/inframes/video/00668.jpg', '/content/EDVR/video/inframes/video/00669.jpg', '/content/EDVR/video/inframes/video/00670.jpg', '/content/EDVR/video/inframes/video/00671.jpg', '/content/EDVR/video/inframes/video/00672.jpg', '/content/EDVR/video/inframes/video/00673.jpg', '/content/EDVR/video/inframes/video/00674.jpg', '/content/EDVR/video/inframes/video/00675.jpg', '/content/EDVR/video/inframes/video/00676.jpg', '/content/EDVR/video/inframes/video/00677.jpg', '/content/EDVR/video/inframes/video/00678.jpg', '/content/EDVR/video/inframes/video/00679.jpg', '/content/EDVR/video/inframes/video/00680.jpg', '/content/EDVR/video/inframes/video/00681.jpg', '/content/EDVR/video/inframes/video/00682.jpg', '/content/EDVR/video/inframes/video/00683.jpg', '/content/EDVR/video/inframes/video/00684.jpg', '/content/EDVR/video/inframes/video/00685.jpg', '/content/EDVR/video/inframes/video/00686.jpg', '/content/EDVR/video/inframes/video/00687.jpg', '/content/EDVR/video/inframes/video/00688.jpg', '/content/EDVR/video/inframes/video/00689.jpg', '/content/EDVR/video/inframes/video/00690.jpg', '/content/EDVR/video/inframes/video/00691.jpg', '/content/EDVR/video/inframes/video/00692.jpg', '/content/EDVR/video/inframes/video/00693.jpg', '/content/EDVR/video/inframes/video/00694.jpg', '/content/EDVR/video/inframes/video/00695.jpg', '/content/EDVR/video/inframes/video/00696.jpg', '/content/EDVR/video/inframes/video/00697.jpg', '/content/EDVR/video/inframes/video/00698.jpg', '/content/EDVR/video/inframes/video/00699.jpg', '/content/EDVR/video/inframes/video/00700.jpg', '/content/EDVR/video/inframes/video/00701.jpg', '/content/EDVR/video/inframes/video/00702.jpg', '/content/EDVR/video/inframes/video/00703.jpg', '/content/EDVR/video/inframes/video/00704.jpg', '/content/EDVR/video/inframes/video/00705.jpg', '/content/EDVR/video/inframes/video/00706.jpg', '/content/EDVR/video/inframes/video/00707.jpg', '/content/EDVR/video/inframes/video/00708.jpg', '/content/EDVR/video/inframes/video/00709.jpg', '/content/EDVR/video/inframes/video/00710.jpg', '/content/EDVR/video/inframes/video/00711.jpg', '/content/EDVR/video/inframes/video/00712.jpg', '/content/EDVR/video/inframes/video/00713.jpg', '/content/EDVR/video/inframes/video/00714.jpg', '/content/EDVR/video/inframes/video/00715.jpg', '/content/EDVR/video/inframes/video/00716.jpg', '/content/EDVR/video/inframes/video/00717.jpg', '/content/EDVR/video/inframes/video/00718.jpg', '/content/EDVR/video/inframes/video/00719.jpg', '/content/EDVR/video/inframes/video/00720.jpg', '/content/EDVR/video/inframes/video/00721.jpg', '/content/EDVR/video/inframes/video/00722.jpg', '/content/EDVR/video/inframes/video/00723.jpg', '/content/EDVR/video/inframes/video/00724.jpg', '/content/EDVR/video/inframes/video/00725.jpg', '/content/EDVR/video/inframes/video/00726.jpg', '/content/EDVR/video/inframes/video/00727.jpg', '/content/EDVR/video/inframes/video/00728.jpg', '/content/EDVR/video/inframes/video/00729.jpg', '/content/EDVR/video/inframes/video/00730.jpg', '/content/EDVR/video/inframes/video/00731.jpg', '/content/EDVR/video/inframes/video/00732.jpg', '/content/EDVR/video/inframes/video/00733.jpg', '/content/EDVR/video/inframes/video/00734.jpg', '/content/EDVR/video/inframes/video/00735.jpg', '/content/EDVR/video/inframes/video/00736.jpg', '/content/EDVR/video/inframes/video/00737.jpg', '/content/EDVR/video/inframes/video/00738.jpg', '/content/EDVR/video/inframes/video/00739.jpg', '/content/EDVR/video/inframes/video/00740.jpg', '/content/EDVR/video/inframes/video/00741.jpg', '/content/EDVR/video/inframes/video/00742.jpg', '/content/EDVR/video/inframes/video/00743.jpg', '/content/EDVR/video/inframes/video/00744.jpg', '/content/EDVR/video/inframes/video/00745.jpg', '/content/EDVR/video/inframes/video/00746.jpg', '/content/EDVR/video/inframes/video/00747.jpg', '/content/EDVR/video/inframes/video/00748.jpg', '/content/EDVR/video/inframes/video/00749.jpg', '/content/EDVR/video/inframes/video/00750.jpg', '/content/EDVR/video/inframes/video/00751.jpg', '/content/EDVR/video/inframes/video/00752.jpg', '/content/EDVR/video/inframes/video/00753.jpg', '/content/EDVR/video/inframes/video/00754.jpg', '/content/EDVR/video/inframes/video/00755.jpg', '/content/EDVR/video/inframes/video/00756.jpg', '/content/EDVR/video/inframes/video/00757.jpg', '/content/EDVR/video/inframes/video/00758.jpg', '/content/EDVR/video/inframes/video/00759.jpg', '/content/EDVR/video/inframes/video/00760.jpg', '/content/EDVR/video/inframes/video/00761.jpg', '/content/EDVR/video/inframes/video/00762.jpg', '/content/EDVR/video/inframes/video/00763.jpg', '/content/EDVR/video/inframes/video/00764.jpg', '/content/EDVR/video/inframes/video/00765.jpg', '/content/EDVR/video/inframes/video/00766.jpg', '/content/EDVR/video/inframes/video/00767.jpg', '/content/EDVR/video/inframes/video/00768.jpg', '/content/EDVR/video/inframes/video/00769.jpg', '/content/EDVR/video/inframes/video/00770.jpg', '/content/EDVR/video/inframes/video/00771.jpg', '/content/EDVR/video/inframes/video/00772.jpg', '/content/EDVR/video/inframes/video/00773.jpg', '/content/EDVR/video/inframes/video/00774.jpg', '/content/EDVR/video/inframes/video/00775.jpg', '/content/EDVR/video/inframes/video/00776.jpg', '/content/EDVR/video/inframes/video/00777.jpg', '/content/EDVR/video/inframes/video/00778.jpg', '/content/EDVR/video/inframes/video/00779.jpg', '/content/EDVR/video/inframes/video/00780.jpg', '/content/EDVR/video/inframes/video/00781.jpg', '/content/EDVR/video/inframes/video/00782.jpg', '/content/EDVR/video/inframes/video/00783.jpg', '/content/EDVR/video/inframes/video/00784.jpg', '/content/EDVR/video/inframes/video/00785.jpg', '/content/EDVR/video/inframes/video/00786.jpg', '/content/EDVR/video/inframes/video/00787.jpg', '/content/EDVR/video/inframes/video/00788.jpg', '/content/EDVR/video/inframes/video/00789.jpg', '/content/EDVR/video/inframes/video/00790.jpg', '/content/EDVR/video/inframes/video/00791.jpg', '/content/EDVR/video/inframes/video/00792.jpg', '/content/EDVR/video/inframes/video/00793.jpg', '/content/EDVR/video/inframes/video/00794.jpg', '/content/EDVR/video/inframes/video/00795.jpg', '/content/EDVR/video/inframes/video/00796.jpg', '/content/EDVR/video/inframes/video/00797.jpg', '/content/EDVR/video/inframes/video/00798.jpg', '/content/EDVR/video/inframes/video/00799.jpg', '/content/EDVR/video/inframes/video/00800.jpg', '/content/EDVR/video/inframes/video/00801.jpg', '/content/EDVR/video/inframes/video/00802.jpg', '/content/EDVR/video/inframes/video/00803.jpg', '/content/EDVR/video/inframes/video/00804.jpg', '/content/EDVR/video/inframes/video/00805.jpg', '/content/EDVR/video/inframes/video/00806.jpg', '/content/EDVR/video/inframes/video/00807.jpg', '/content/EDVR/video/inframes/video/00808.jpg', '/content/EDVR/video/inframes/video/00809.jpg', '/content/EDVR/video/inframes/video/00810.jpg', '/content/EDVR/video/inframes/video/00811.jpg', '/content/EDVR/video/inframes/video/00812.jpg', '/content/EDVR/video/inframes/video/00813.jpg', '/content/EDVR/video/inframes/video/00814.jpg', '/content/EDVR/video/inframes/video/00815.jpg', '/content/EDVR/video/inframes/video/00816.jpg', '/content/EDVR/video/inframes/video/00817.jpg', '/content/EDVR/video/inframes/video/00818.jpg', '/content/EDVR/video/inframes/video/00819.jpg', '/content/EDVR/video/inframes/video/00820.jpg', '/content/EDVR/video/inframes/video/00821.jpg', '/content/EDVR/video/inframes/video/00822.jpg', '/content/EDVR/video/inframes/video/00823.jpg', '/content/EDVR/video/inframes/video/00824.jpg', '/content/EDVR/video/inframes/video/00825.jpg', '/content/EDVR/video/inframes/video/00826.jpg', '/content/EDVR/video/inframes/video/00827.jpg', '/content/EDVR/video/inframes/video/00828.jpg', '/content/EDVR/video/inframes/video/00829.jpg', '/content/EDVR/video/inframes/video/00830.jpg', '/content/EDVR/video/inframes/video/00831.jpg', '/content/EDVR/video/inframes/video/00832.jpg', '/content/EDVR/video/inframes/video/00833.jpg', '/content/EDVR/video/inframes/video/00834.jpg', '/content/EDVR/video/inframes/video/00835.jpg', '/content/EDVR/video/inframes/video/00836.jpg', '/content/EDVR/video/inframes/video/00837.jpg', '/content/EDVR/video/inframes/video/00838.jpg']\n",
            "/content/video.mp4\n",
            "Original FPS is:  18/1\n"
          ],
          "name": "stdout"
        },
        {
          "output_type": "error",
          "ename": "Error",
          "evalue": "ignored",
          "traceback": [
            "\u001b[0;31m---------------------------------------------------------------------------\u001b[0m",
            "\u001b[0;31mError\u001b[0m                                     Traceback (most recent call last)",
            "\u001b[0;32m<ipython-input-29-391e6804b2e6>\u001b[0m in \u001b[0;36m<module>\u001b[0;34m()\u001b[0m\n\u001b[1;32m      5\u001b[0m \u001b[0;34m\u001b[0m\u001b[0m\n\u001b[1;32m      6\u001b[0m edvr_video(source_url, Path('/content/video.mp4'), data_mode, \n\u001b[0;32m----> 7\u001b[0;31m             original_video_quality, 100, finetune_stage2)\n\u001b[0m\u001b[1;32m      8\u001b[0m \u001b[0;34m\u001b[0m\u001b[0m\n\u001b[1;32m      9\u001b[0m \u001b[0;31m# clear_output()\u001b[0m\u001b[0;34m\u001b[0m\u001b[0;34m\u001b[0m\u001b[0;34m\u001b[0m\u001b[0m\n",
            "\u001b[0;32m<ipython-input-28-5b3174e4aea8>\u001b[0m in \u001b[0;36medvr_video\u001b[0;34m(source_url, source_path, data_mode, original_quality, chunk_size, finetune_stage2)\u001b[0m\n\u001b[1;32m    304\u001b[0m \u001b[0;34m\u001b[0m\u001b[0m\n\u001b[1;32m    305\u001b[0m     \u001b[0;31m# build back video\u001b[0m\u001b[0;34m\u001b[0m\u001b[0;34m\u001b[0m\u001b[0;34m\u001b[0m\u001b[0m\n\u001b[0;32m--> 306\u001b[0;31m     \u001b[0mbuild_video\u001b[0m\u001b[0;34m(\u001b[0m\u001b[0msource_path\u001b[0m\u001b[0;34m)\u001b[0m\u001b[0;34m\u001b[0m\u001b[0;34m\u001b[0m\u001b[0m\n\u001b[0m",
            "\u001b[0;32m<ipython-input-28-5b3174e4aea8>\u001b[0m in \u001b[0;36mbuild_video\u001b[0;34m(source_path)\u001b[0m\n\u001b[1;32m    251\u001b[0m             \u001b[0mvcodec\u001b[0m\u001b[0;34m=\u001b[0m\u001b[0;34m'mjpeg'\u001b[0m\u001b[0;34m,\u001b[0m\u001b[0;34m\u001b[0m\u001b[0;34m\u001b[0m\u001b[0m\n\u001b[1;32m    252\u001b[0m             \u001b[0mframerate\u001b[0m\u001b[0;34m=\u001b[0m\u001b[0mfps\u001b[0m\u001b[0;34m,\u001b[0m\u001b[0;34m\u001b[0m\u001b[0;34m\u001b[0m\u001b[0m\n\u001b[0;32m--> 253\u001b[0;31m         ).output(str(out_path), crf=17, vcodec='libx264').run(capture_stdout=True)\n\u001b[0m\u001b[1;32m    254\u001b[0m \u001b[0;34m\u001b[0m\u001b[0m\n\u001b[1;32m    255\u001b[0m         \u001b[0mresult_path\u001b[0m \u001b[0;34m=\u001b[0m \u001b[0mresult_folder\u001b[0m \u001b[0;34m/\u001b[0m \u001b[0msource_path\u001b[0m\u001b[0;34m.\u001b[0m\u001b[0mname\u001b[0m\u001b[0;34m\u001b[0m\u001b[0;34m\u001b[0m\u001b[0m\n",
            "\u001b[0;32m/usr/local/lib/python3.7/dist-packages/ffmpeg/_run.py\u001b[0m in \u001b[0;36mrun\u001b[0;34m(stream_spec, cmd, capture_stdout, capture_stderr, input, quiet, overwrite_output)\u001b[0m\n\u001b[1;32m    303\u001b[0m     \u001b[0mretcode\u001b[0m \u001b[0;34m=\u001b[0m \u001b[0mprocess\u001b[0m\u001b[0;34m.\u001b[0m\u001b[0mpoll\u001b[0m\u001b[0;34m(\u001b[0m\u001b[0;34m)\u001b[0m\u001b[0;34m\u001b[0m\u001b[0;34m\u001b[0m\u001b[0m\n\u001b[1;32m    304\u001b[0m     \u001b[0;32mif\u001b[0m \u001b[0mretcode\u001b[0m\u001b[0;34m:\u001b[0m\u001b[0;34m\u001b[0m\u001b[0;34m\u001b[0m\u001b[0m\n\u001b[0;32m--> 305\u001b[0;31m         \u001b[0;32mraise\u001b[0m \u001b[0mError\u001b[0m\u001b[0;34m(\u001b[0m\u001b[0;34m'ffmpeg'\u001b[0m\u001b[0;34m,\u001b[0m \u001b[0mout\u001b[0m\u001b[0;34m,\u001b[0m \u001b[0merr\u001b[0m\u001b[0;34m)\u001b[0m\u001b[0;34m\u001b[0m\u001b[0;34m\u001b[0m\u001b[0m\n\u001b[0m\u001b[1;32m    306\u001b[0m     \u001b[0;32mreturn\u001b[0m \u001b[0mout\u001b[0m\u001b[0;34m,\u001b[0m \u001b[0merr\u001b[0m\u001b[0;34m\u001b[0m\u001b[0;34m\u001b[0m\u001b[0m\n\u001b[1;32m    307\u001b[0m \u001b[0;34m\u001b[0m\u001b[0m\n",
            "\u001b[0;31mError\u001b[0m: ffmpeg error (see stderr output for detail)"
          ]
        }
      ]
    },
    {
      "cell_type": "markdown",
      "metadata": {
        "id": "0vVBGVuuDJIH"
      },
      "source": [
        "# Results\n",
        "\n",
        "You can find your output video under: /content/EDVR/codes/video/result\n",
        "\n",
        "All images can be found under /content/EDVR/codes/video\n"
      ]
    },
    {
      "cell_type": "code",
      "metadata": {
        "id": "kHlDcsQ0PiL8",
        "colab": {
          "base_uri": "https://localhost:8080/",
          "height": 335
        },
        "outputId": "3f0fa1b1-b170-4e73-e8d4-70938789f503"
      },
      "source": [
        "# check a random output frame\n",
        "im = Image.open('/content/EDVR/codes/video/outframes/video/00200.jpg')\n",
        "im"
      ],
      "execution_count": null,
      "outputs": [
        {
          "output_type": "error",
          "ename": "FileNotFoundError",
          "evalue": "ignored",
          "traceback": [
            "\u001b[0;31m---------------------------------------------------------------------------\u001b[0m",
            "\u001b[0;31mFileNotFoundError\u001b[0m                         Traceback (most recent call last)",
            "\u001b[0;32m<ipython-input-25-863f5bfd2187>\u001b[0m in \u001b[0;36m<module>\u001b[0;34m()\u001b[0m\n\u001b[1;32m      1\u001b[0m \u001b[0;31m# check a random output frame\u001b[0m\u001b[0;34m\u001b[0m\u001b[0;34m\u001b[0m\u001b[0;34m\u001b[0m\u001b[0m\n\u001b[0;32m----> 2\u001b[0;31m \u001b[0mim\u001b[0m \u001b[0;34m=\u001b[0m \u001b[0mImage\u001b[0m\u001b[0;34m.\u001b[0m\u001b[0mopen\u001b[0m\u001b[0;34m(\u001b[0m\u001b[0;34m'/content/EDVR/codes/video/outframes/video/00200.jpg'\u001b[0m\u001b[0;34m)\u001b[0m\u001b[0;34m\u001b[0m\u001b[0;34m\u001b[0m\u001b[0m\n\u001b[0m\u001b[1;32m      3\u001b[0m \u001b[0mim\u001b[0m\u001b[0;34m\u001b[0m\u001b[0;34m\u001b[0m\u001b[0m\n",
            "\u001b[0;32m/usr/local/lib/python3.7/dist-packages/PIL/Image.py\u001b[0m in \u001b[0;36mopen\u001b[0;34m(fp, mode)\u001b[0m\n\u001b[1;32m   2807\u001b[0m \u001b[0;34m\u001b[0m\u001b[0m\n\u001b[1;32m   2808\u001b[0m     \u001b[0;32mif\u001b[0m \u001b[0mfilename\u001b[0m\u001b[0;34m:\u001b[0m\u001b[0;34m\u001b[0m\u001b[0;34m\u001b[0m\u001b[0m\n\u001b[0;32m-> 2809\u001b[0;31m         \u001b[0mfp\u001b[0m \u001b[0;34m=\u001b[0m \u001b[0mbuiltins\u001b[0m\u001b[0;34m.\u001b[0m\u001b[0mopen\u001b[0m\u001b[0;34m(\u001b[0m\u001b[0mfilename\u001b[0m\u001b[0;34m,\u001b[0m \u001b[0;34m\"rb\"\u001b[0m\u001b[0;34m)\u001b[0m\u001b[0;34m\u001b[0m\u001b[0;34m\u001b[0m\u001b[0m\n\u001b[0m\u001b[1;32m   2810\u001b[0m         \u001b[0mexclusive_fp\u001b[0m \u001b[0;34m=\u001b[0m \u001b[0;32mTrue\u001b[0m\u001b[0;34m\u001b[0m\u001b[0;34m\u001b[0m\u001b[0m\n\u001b[1;32m   2811\u001b[0m \u001b[0;34m\u001b[0m\u001b[0m\n",
            "\u001b[0;31mFileNotFoundError\u001b[0m: [Errno 2] No such file or directory: '/content/EDVR/codes/video/outframes/video/00200.jpg'"
          ]
        }
      ]
    },
    {
      "cell_type": "code",
      "metadata": {
        "id": "TvMOsgpBP_V0"
      },
      "source": [
        "im.size"
      ],
      "execution_count": null,
      "outputs": []
    },
    {
      "cell_type": "code",
      "metadata": {
        "id": "vno1VkgWLqIO"
      },
      "source": [
        ""
      ],
      "execution_count": null,
      "outputs": []
    }
  ]
}