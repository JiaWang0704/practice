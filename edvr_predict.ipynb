{
  "nbformat": 4,
  "nbformat_minor": 0,
  "metadata": {
    "colab": {
      "name": "edvr-predict.ipynb",
      "provenance": [],
      "toc_visible": true,
      "authorship_tag": "ABX9TyMm2H3c4M98/rqdIVzeH1du",
      "include_colab_link": true
    },
    "kernelspec": {
      "name": "python3",
      "display_name": "Python 3"
    },
    "language_info": {
      "name": "python"
    }
  },
  "cells": [
    {
      "cell_type": "markdown",
      "metadata": {
        "id": "view-in-github",
        "colab_type": "text"
      },
      "source": [
        "<a href=\"https://colab.research.google.com/github/se16wangmeiwei/practice/blob/main/edvr_predict.ipynb\" target=\"_parent\"><img src=\"https://colab.research.google.com/assets/colab-badge.svg\" alt=\"Open In Colab\"/></a>"
      ]
    },
    {
      "cell_type": "markdown",
      "metadata": {
        "id": "mBkOR968SQxV"
      },
      "source": [
        "# Get EDVR"
      ]
    },
    {
      "cell_type": "code",
      "metadata": {
        "colab": {
          "base_uri": "https://localhost:8080/"
        },
        "id": "-6-YhbgdN526",
        "outputId": "fe3bb591-7941-4ff2-9832-f722d4ed833c"
      },
      "source": [
        "from google.colab import drive\n",
        "from IPython.display import clear_output\n",
        "\n",
        "drive.mount('/content/drive', force_remount = True)"
      ],
      "execution_count": null,
      "outputs": [
        {
          "output_type": "stream",
          "text": [
            "Mounted at /content/drive\n"
          ],
          "name": "stdout"
        }
      ]
    },
    {
      "cell_type": "code",
      "metadata": {
        "colab": {
          "base_uri": "https://localhost:8080/"
        },
        "id": "Aeg_eWugPJQ4",
        "outputId": "bb3d9ecd-a44b-4e25-cf62-6caafa4ac866"
      },
      "source": [
        "!git clone https://github.com/xinntao/EDVR"
      ],
      "execution_count": null,
      "outputs": [
        {
          "output_type": "stream",
          "text": [
            "fatal: destination path 'EDVR' already exists and is not an empty directory.\n"
          ],
          "name": "stdout"
        }
      ]
    },
    {
      "cell_type": "code",
      "metadata": {
        "colab": {
          "base_uri": "https://localhost:8080/"
        },
        "id": "c7UQglpGPUk3",
        "outputId": "d9859888-a4a7-48a6-e7ce-ee13e3e4a9ff"
      },
      "source": [
        "cd EDVR"
      ],
      "execution_count": null,
      "outputs": [
        {
          "output_type": "stream",
          "text": [
            "/content/EDVR\n"
          ],
          "name": "stdout"
        }
      ]
    },
    {
      "cell_type": "code",
      "metadata": {
        "id": "Fe46nZ5gPctG"
      },
      "source": [
        "!pip install -r requirements.txt\n",
        "\n",
        "clear_output()"
      ],
      "execution_count": null,
      "outputs": []
    },
    {
      "cell_type": "code",
      "metadata": {
        "id": "-WOvLBq0RN2Q"
      },
      "source": [
        "!python setup.py develop\n",
        "clear_output()"
      ],
      "execution_count": null,
      "outputs": []
    },
    {
      "cell_type": "code",
      "metadata": {
        "id": "u-o5U0F3P8kK"
      },
      "source": [
        "!pip install numpy opencv-python lmdb pyyaml\n",
        "clear_output()"
      ],
      "execution_count": null,
      "outputs": []
    },
    {
      "cell_type": "code",
      "metadata": {
        "id": "vhnib1-mQMEb"
      },
      "source": [
        "!pip install tb-nightly future\n",
        "clear_output()"
      ],
      "execution_count": null,
      "outputs": []
    },
    {
      "cell_type": "markdown",
      "metadata": {
        "id": "td0Yl6UzSYLF"
      },
      "source": [
        "# Download Pre-trained Modles"
      ]
    },
    {
      "cell_type": "code",
      "metadata": {
        "id": "3TgDvqh8QUJ3"
      },
      "source": [
        "!wget --no-check-certificate 'https://drive.google.com/uc?export=download&id=1PYULZmtpsmY4Wx8M9f4owdLIwcwQFEmi' -O EDVR_REDS_SR_L.pth\n",
        "!wget --no-check-certificate 'https://drive.google.com/uc?export=download&id=1ZCl0aU8isEnUCsUYv9rIZZQrGo7vBFUH' -O EDVR_REDS_deblur_L.pth\n",
        "!wget --no-check-certificate 'https://drive.google.com/uc?export=download&id=1SGVehpZt4WL_X8Jh6blyqmHpc8DdImgv' -O EDVR_REDS_deblurcomp_L.pth\n",
        "!wget --no-check-certificate 'https://drive.google.com/uc?export=download&id=18ev7Zx_10-C8-0tAVAe_BpYeLHpr_ChE' -O EDVR_REDS_SRblur_L.pth\n",
        "!wget --no-check-certificate 'https://drive.google.com/uc?export=download&id=1I7x87ee3E1DoFVgMxX09nfIb2tdUdE3x' -O EDVR_Vimeo90K_SR_L.pth\n",
        "\n",
        "clear_output()"
      ],
      "execution_count": null,
      "outputs": []
    },
    {
      "cell_type": "code",
      "metadata": {
        "id": "K5J3AwwyShxc"
      },
      "source": [
        "!mv /content/EDVR/EDVR_REDS_SR_L.pth /content/EDVR/experiments/pretrained_models\n",
        "!mv /content/EDVR/EDVR_REDS_deblur_L.pth /content/EDVR/experiments/pretrained_models\n",
        "!mv /content/EDVR/EDVR_REDS_deblurcomp_L.pth /content/EDVR/experiments/pretrained_models\n",
        "!mv /content/EDVR/EDVR_REDS_SRblur_L.pth /content/EDVR/experiments/pretrained_models\n",
        "!mv /content/EDVR/EDVR_Vimeo90K_SR_L.pth /content/EDVR/experiments/pretrained_models"
      ],
      "execution_count": null,
      "outputs": []
    },
    {
      "cell_type": "code",
      "metadata": {
        "id": "afFNSlA0Sono"
      },
      "source": [
        "# stage 2\n",
        "!wget --no-check-certificate 'https://drive.google.com/uc?export=download&id=1G466gQ1rRl8MUKSEbtaR0U5xgIWdsG66' -O EDVR_REDS_deblurcomp_Stage2.pth\n",
        "!wget --no-check-certificate 'https://drive.google.com/uc?export=download&id=1kfArevFT8hzbUT2QWXFmUl983LTebQGP' -O EDVR_REDS_SR_Stage2.pth\n",
        "!wget --no-check-certificate 'https://drive.google.com/uc?export=download&id=13c-VxMdf8h7MGX-_y4xamxo1hhOMYzsH' -O EDVR_REDS_SRblur_Stage2.pth\n",
        "!wget --no-check-certificate 'https://drive.google.com/uc?export=download&id=1Y1y6v40dL74Kgf5fxbGd0QC010LFCBYz' -O EDVR_REDS_deblur_Stage2.pth\n",
        "\n",
        "clear_output()"
      ],
      "execution_count": null,
      "outputs": []
    },
    {
      "cell_type": "code",
      "metadata": {
        "id": "4tEFNGKZSq59"
      },
      "source": [
        "# stage 2\n",
        "!mv /content/EDVR/EDVR_REDS_deblurcomp_Stage2.pth /content/EDVR/experiments/pretrained_models\n",
        "!mv /content/EDVR/EDVR_REDS_SR_Stage2.pth /content/EDVR/experiments/pretrained_models\n",
        "!mv /content/EDVR/EDVR_REDS_SRblur_Stage2.pth /content/EDVR/experiments/pretrained_models\n",
        "!mv /content/EDVR/EDVR_REDS_deblur_Stage2.pth /content/EDVR/experiments/pretrained_models"
      ],
      "execution_count": null,
      "outputs": []
    },
    {
      "cell_type": "code",
      "metadata": {
        "colab": {
          "base_uri": "https://localhost:8080/"
        },
        "id": "RDoTS4chSwxX",
        "outputId": "18072950-dbb4-4696-a414-0148203962d9"
      },
      "source": [
        "cd /content/EDVR"
      ],
      "execution_count": null,
      "outputs": [
        {
          "output_type": "stream",
          "text": [
            "/content/EDVR\n"
          ],
          "name": "stdout"
        }
      ]
    },
    {
      "cell_type": "code",
      "metadata": {
        "id": "VhDbzWHGSziq"
      },
      "source": [
        "import sys\n",
        "sys.path.append('/content/EDVR/basicsr')\n",
        "sys.path.append('/content/EDVR/basicsr/utils')\n",
        "sys.path.append('/content/EDVR/basicsr/data')\n",
        "sys.path.append('/content/EDVR/basicsr/models/archs')\n"
      ],
      "execution_count": null,
      "outputs": []
    },
    {
      "cell_type": "markdown",
      "metadata": {
        "id": "enzkrZE0S2Lw"
      },
      "source": [
        "# Start Pretrained"
      ]
    },
    {
      "cell_type": "code",
      "metadata": {
        "id": "hdhqWHSTDzsg"
      },
      "source": [
        "def preProcess(imag_path_l, multiple):\n",
        "  '''Need to resize images for blurred model (needs to be multiples of 16)'''\n",
        "  for img_path in imag_path_l:\n",
        "    im = Image.open(img_path)\n",
        "    h, w = im.size\n",
        "    # resize so they are multiples of 4 or 16 (for blurred)\n",
        "    h = h - h % multiple\n",
        "    w = w - w % multiple\n",
        "    im = im.resize((h,w))\n",
        "    im.save(img_path)"
      ],
      "execution_count": null,
      "outputs": []
    },
    {
      "cell_type": "code",
      "metadata": {
        "id": "xZsTcErUS0-g"
      },
      "source": [
        "import torch\n",
        "import data_util\n",
        "import util #这个文件是自己加载的\n",
        "import edvr_arch as EDVR_arch\n",
        "\n",
        "device = torch.device('cuda')\n",
        "# 预训练模型的路径,使用vid4来进行预测\n",
        "model_path = '/content/EDVR/experiments/pretrained_models/EDVR_Vimeo90K_SR_L.pth'\n",
        "predeblur, HR_in = True, True\n",
        "model = EDVR_arch.EDVR(num_feat=128, num_reconstruct_block=40,with_predeblur=predeblur, hr_in=HR_in)\n",
        "model.load_state_dict(torch.load(model_path), strict=False)\n",
        "model = model.to(device)\n",
        "\n",
        "# 对数据进行预处理\n",
        "predeblur = True\n",
        "folder = '/content/EDVR/data'\n",
        "folder_l = sorted(glob.glob(folder,'*'))\n",
        "if predeblur:\n",
        "  preProcess(folder_l, 16)\n",
        "else:\n",
        "  predeblur(folder_l, 4)\n",
        "\n"
      ],
      "execution_count": null,
      "outputs": []
    },
    {
      "cell_type": "code",
      "metadata": {
        "id": "3mHAxHpma9mQ"
      },
      "source": [
        ""
      ],
      "execution_count": null,
      "outputs": []
    }
  ]
}